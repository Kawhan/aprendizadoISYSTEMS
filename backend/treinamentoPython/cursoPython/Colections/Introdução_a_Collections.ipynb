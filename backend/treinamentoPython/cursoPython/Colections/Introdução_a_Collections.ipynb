{
  "nbformat": 4,
  "nbformat_minor": 0,
  "metadata": {
    "colab": {
      "name": "Introdução a Collections.ipynb",
      "provenance": [],
      "collapsed_sections": []
    },
    "kernelspec": {
      "name": "python3",
      "display_name": "Python 3"
    },
    "language_info": {
      "name": "python"
    }
  },
  "cells": [
    {
      "cell_type": "code",
      "execution_count": null,
      "metadata": {
        "colab": {
          "base_uri": "https://localhost:8080/"
        },
        "id": "qUtBOE7_3nXl",
        "outputId": "1087af4a-2a80-4572-a39a-9400e9a6160f"
      },
      "outputs": [
        {
          "output_type": "stream",
          "name": "stdout",
          "text": [
            "[39, 30, 27, 18]\n"
          ]
        }
      ],
      "source": [
        "list_idades = [39,30,27,18]\n",
        "print(list_idades)"
      ]
    },
    {
      "cell_type": "code",
      "source": [
        "# Adicionando um elemento no final da minha lista\n",
        "list_idades.append(19)\n"
      ],
      "metadata": {
        "id": "7kRkQMgd55WS"
      },
      "execution_count": null,
      "outputs": []
    },
    {
      "cell_type": "code",
      "source": [
        "list_idades"
      ],
      "metadata": {
        "colab": {
          "base_uri": "https://localhost:8080/"
        },
        "id": "JVyFDCib57Ar",
        "outputId": "6bbb3a05-fc97-4982-f7a1-6dbef977bbe2"
      },
      "execution_count": null,
      "outputs": [
        {
          "output_type": "execute_result",
          "data": {
            "text/plain": [
              "[39, 30, 27, 18, 19]"
            ]
          },
          "metadata": {},
          "execution_count": 4
        }
      ]
    },
    {
      "cell_type": "code",
      "source": [
        "for idade in list_idades:\n",
        "  print(idade)"
      ],
      "metadata": {
        "colab": {
          "base_uri": "https://localhost:8080/"
        },
        "id": "qCfLuFSF6VTN",
        "outputId": "e13f5b4b-db95-4e48-ebfa-c0d44be6c20e"
      },
      "execution_count": null,
      "outputs": [
        {
          "output_type": "stream",
          "name": "stdout",
          "text": [
            "39\n",
            "30\n",
            "27\n",
            "18\n",
            "19\n"
          ]
        }
      ]
    },
    {
      "cell_type": "code",
      "source": [
        "# Removendo elemento com base no que é passado\n",
        "list_idades.remove(30)"
      ],
      "metadata": {
        "id": "XXz6wdHa6Ymc"
      },
      "execution_count": null,
      "outputs": []
    },
    {
      "cell_type": "code",
      "source": [
        "list_idades"
      ],
      "metadata": {
        "colab": {
          "base_uri": "https://localhost:8080/"
        },
        "id": "7luR4ohI6dX0",
        "outputId": "4c0b15ff-71f9-4d7f-c726-911dfbc76e02"
      },
      "execution_count": null,
      "outputs": [
        {
          "output_type": "execute_result",
          "data": {
            "text/plain": [
              "[39, 27, 18, 19]"
            ]
          },
          "metadata": {},
          "execution_count": 7
        }
      ]
    },
    {
      "cell_type": "code",
      "source": [
        "# Verificando se o elemento está na lista\n",
        "27 in list_idades"
      ],
      "metadata": {
        "colab": {
          "base_uri": "https://localhost:8080/"
        },
        "id": "bPefGnyG6n4z",
        "outputId": "e38bf790-ed45-4ce2-a451-6cd6ba48753b"
      },
      "execution_count": null,
      "outputs": [
        {
          "output_type": "execute_result",
          "data": {
            "text/plain": [
              "True"
            ]
          },
          "metadata": {},
          "execution_count": 8
        }
      ]
    },
    {
      "cell_type": "code",
      "source": [
        "# Inserindo um elemento em um indice\n",
        "list_idades.insert(0, 44)\n",
        "list_idades"
      ],
      "metadata": {
        "colab": {
          "base_uri": "https://localhost:8080/"
        },
        "id": "V_bcwtU28v98",
        "outputId": "7c8ae43e-72d2-489a-b269-ed5306ad7d30"
      },
      "execution_count": null,
      "outputs": [
        {
          "output_type": "execute_result",
          "data": {
            "text/plain": [
              "[44, 39, 27, 18, 19]"
            ]
          },
          "metadata": {},
          "execution_count": 9
        }
      ]
    },
    {
      "cell_type": "code",
      "source": [
        "# Deletando de um idice até outro\n",
        "del list_idades[6:]\n",
        "# Extendendo nossa lista\n",
        "# list_idades.extend([30,28])\n",
        "list_idades"
      ],
      "metadata": {
        "colab": {
          "base_uri": "https://localhost:8080/"
        },
        "id": "jC4lnj7N86wb",
        "outputId": "da3e68b2-95d8-4ff4-fc18-e93f3879e15e"
      },
      "execution_count": null,
      "outputs": [
        {
          "output_type": "execute_result",
          "data": {
            "text/plain": [
              "[44, 39, 27, 18, 19]"
            ]
          },
          "metadata": {},
          "execution_count": 10
        }
      ]
    },
    {
      "cell_type": "code",
      "source": [
        "for idade in list_idades:\n",
        "  print(idade + 1)"
      ],
      "metadata": {
        "colab": {
          "base_uri": "https://localhost:8080/"
        },
        "id": "VB7t8FXy-jIb",
        "outputId": "b1dcbdb9-d7c4-4440-9a9f-af2ad2490d62"
      },
      "execution_count": null,
      "outputs": [
        {
          "output_type": "stream",
          "name": "stdout",
          "text": [
            "45\n",
            "40\n",
            "28\n",
            "19\n",
            "20\n"
          ]
        }
      ]
    },
    {
      "cell_type": "code",
      "source": [
        "idades_no_ano_que_vem = []\n",
        "for idade in list_idades:\n",
        "  idades_no_ano_que_vem.append(idade + 1)\n",
        "idades_no_ano_que_vem"
      ],
      "metadata": {
        "colab": {
          "base_uri": "https://localhost:8080/"
        },
        "id": "JVXCOxHsAQqk",
        "outputId": "ff9d0f39-7ace-40f8-ede6-754f4447f94f"
      },
      "execution_count": null,
      "outputs": [
        {
          "output_type": "execute_result",
          "data": {
            "text/plain": [
              "[45, 40, 28, 19, 20]"
            ]
          },
          "metadata": {},
          "execution_count": 12
        }
      ]
    },
    {
      "cell_type": "code",
      "source": [
        "idades_no_ano_que_vem = [(idade + 1) for idade in list_idades]\n",
        "idades_no_ano_que_vem"
      ],
      "metadata": {
        "colab": {
          "base_uri": "https://localhost:8080/"
        },
        "id": "nUuzkpvYAgnd",
        "outputId": "f5b3bb1b-22be-4224-ee86-604926d841fb"
      },
      "execution_count": null,
      "outputs": [
        {
          "output_type": "execute_result",
          "data": {
            "text/plain": [
              "[45, 40, 28, 19, 20]"
            ]
          },
          "metadata": {},
          "execution_count": 13
        }
      ]
    },
    {
      "cell_type": "code",
      "source": [
        "lista_maior_18 = [(idade) for idade in idades_no_ano_que_vem if (idade > 18 and idade < 40)]\n",
        "lista_maior_18"
      ],
      "metadata": {
        "colab": {
          "base_uri": "https://localhost:8080/"
        },
        "id": "YTES2JW1A8zI",
        "outputId": "f4c57efe-fa2e-4cd4-b3c7-9b437ac77e22"
      },
      "execution_count": null,
      "outputs": [
        {
          "output_type": "execute_result",
          "data": {
            "text/plain": [
              "[28, 19, 20]"
            ]
          },
          "metadata": {},
          "execution_count": 14
        }
      ]
    },
    {
      "cell_type": "code",
      "source": [
        "def faz_processamento_de_visualizacao(lista):\n",
        "  print(len(lista))"
      ],
      "metadata": {
        "id": "hOqGUxMIBuMf"
      },
      "execution_count": null,
      "outputs": []
    },
    {
      "cell_type": "code",
      "source": [
        "faz_processamento_de_visualizacao(lista_maior_18)"
      ],
      "metadata": {
        "colab": {
          "base_uri": "https://localhost:8080/"
        },
        "id": "vmt0AemOCver",
        "outputId": "ecd2aa27-b23d-4ecf-90b9-c4c9854e8dbb"
      },
      "execution_count": null,
      "outputs": [
        {
          "output_type": "stream",
          "name": "stdout",
          "text": [
            "3\n"
          ]
        }
      ]
    },
    {
      "cell_type": "code",
      "source": [
        "# Boa pratica para trabalhar com valores mutaveis em funções e evitar efeitos colaterais\n",
        "def faz_processamento_de_visualizacao(lista = None):\n",
        "  if (lista == None):\n",
        "    lista = list()\n",
        "  print(len(lista))\n",
        "  print(lista)\n",
        "  lista.append(13)\n",
        "\n",
        "# Isso é evita que o valor da lista seja armazenado e a cada iteração gere\n",
        "# Um resultado não esperado\n",
        "# Tomar esse cuidado com lista e objetos mutaveis"
      ],
      "metadata": {
        "id": "cL4tvgW3Cyag"
      },
      "execution_count": null,
      "outputs": []
    },
    {
      "cell_type": "code",
      "source": [
        "faz_processamento_de_visualizacao()"
      ],
      "metadata": {
        "colab": {
          "base_uri": "https://localhost:8080/"
        },
        "id": "QTF8friTG90w",
        "outputId": "303e3c22-9871-479f-d82d-a469c1f0da6f"
      },
      "execution_count": null,
      "outputs": [
        {
          "output_type": "stream",
          "name": "stdout",
          "text": [
            "0\n",
            "[]\n"
          ]
        }
      ]
    },
    {
      "cell_type": "code",
      "source": [
        "faz_processamento_de_visualizacao()\n"
      ],
      "metadata": {
        "colab": {
          "base_uri": "https://localhost:8080/"
        },
        "id": "lTsK0dttHPwz",
        "outputId": "52e14042-690f-45b7-f5f4-bb552c83bf66"
      },
      "execution_count": null,
      "outputs": [
        {
          "output_type": "stream",
          "name": "stdout",
          "text": [
            "0\n",
            "[]\n"
          ]
        }
      ]
    },
    {
      "cell_type": "markdown",
      "source": [
        "# Objetos Próprios"
      ],
      "metadata": {
        "id": "HGyU7VryIVF_"
      }
    },
    {
      "cell_type": "code",
      "source": [
        "class ContaCorrente():\n",
        "  def __init__(self, codigo):\n",
        "    self.codigo = codigo\n",
        "    self.saldo = 0\n",
        "\n",
        "  def deposita(self, valor):\n",
        "    self.saldo += valor\n",
        "  \n",
        "  def __str__(self):\n",
        "    return f\"[>>Código {self.codigo} Saldo {self.saldo}<<]\"\n",
        "  "
      ],
      "metadata": {
        "id": "DUv7qISgIXi8"
      },
      "execution_count": null,
      "outputs": []
    },
    {
      "cell_type": "code",
      "source": [
        "conta_kawhan = ContaCorrente(15)\n",
        "print(conta_kawhan)"
      ],
      "metadata": {
        "colab": {
          "base_uri": "https://localhost:8080/"
        },
        "id": "mNcrfin5IbEJ",
        "outputId": "a1dc7799-542a-4d3c-a523-63bfe960fbad"
      },
      "execution_count": null,
      "outputs": [
        {
          "output_type": "stream",
          "name": "stdout",
          "text": [
            "[>>Código 15 Saldo 0<<]\n"
          ]
        }
      ]
    },
    {
      "cell_type": "code",
      "source": [
        "conta_kawhan.deposita(500)\n",
        "print(conta_kawhan)"
      ],
      "metadata": {
        "colab": {
          "base_uri": "https://localhost:8080/"
        },
        "id": "254xrjYtJQC_",
        "outputId": "5a44513d-05df-449c-f390-a082c36f2ff3"
      },
      "execution_count": null,
      "outputs": [
        {
          "output_type": "stream",
          "name": "stdout",
          "text": [
            "[>>Código 15 Saldo 500<<]\n"
          ]
        }
      ]
    },
    {
      "cell_type": "code",
      "source": [
        "conta_kawhana = ContaCorrente(4000)\n",
        "conta_kawhana.deposita(1000)\n",
        "print(conta_kawhana)"
      ],
      "metadata": {
        "colab": {
          "base_uri": "https://localhost:8080/"
        },
        "id": "E9pY69N4JX0i",
        "outputId": "b7578487-4238-4dbb-fa11-1e57647359b0"
      },
      "execution_count": null,
      "outputs": [
        {
          "output_type": "stream",
          "name": "stdout",
          "text": [
            "[>>Código 4000 Saldo 1000<<]\n"
          ]
        }
      ]
    },
    {
      "cell_type": "code",
      "source": [
        "contas = [conta_kawhana, conta_kawhan]\n",
        "for conta in contas:\n",
        "  print(conta)"
      ],
      "metadata": {
        "colab": {
          "base_uri": "https://localhost:8080/"
        },
        "id": "-AmPnInWJuc0",
        "outputId": "168e87eb-6790-404c-80b2-364ba2dc56d4"
      },
      "execution_count": null,
      "outputs": [
        {
          "output_type": "stream",
          "name": "stdout",
          "text": [
            "[>>Código 4000 Saldo 1000<<]\n",
            "[>>Código 15 Saldo 500<<]\n"
          ]
        }
      ]
    },
    {
      "cell_type": "code",
      "source": [
        "# Você criou apenas 2 objetos então quando armazenas eles em uma lista\n",
        "# Mudar os valores ele vai mudar nos 2 porque você instanciou os objetos apenas 1 vez\n",
        "contas = [conta_kawhan, conta_kawhana, conta_kawhan]"
      ],
      "metadata": {
        "id": "zkpUsu_WJ1pY"
      },
      "execution_count": null,
      "outputs": []
    },
    {
      "cell_type": "code",
      "source": [
        "conta_kawhan.deposita(100)"
      ],
      "metadata": {
        "id": "xFznDyduKjc0"
      },
      "execution_count": null,
      "outputs": []
    },
    {
      "cell_type": "code",
      "source": [
        "print(contas[0])\n",
        "print(contas[2])"
      ],
      "metadata": {
        "colab": {
          "base_uri": "https://localhost:8080/"
        },
        "id": "7Y6N2SXtKvA9",
        "outputId": "42b3bab0-e9ff-439c-9e41-d02c4d409523"
      },
      "execution_count": null,
      "outputs": [
        {
          "output_type": "stream",
          "name": "stdout",
          "text": [
            "[>>Código 15 Saldo 600<<]\n",
            "[>>Código 15 Saldo 600<<]\n"
          ]
        }
      ]
    },
    {
      "cell_type": "code",
      "source": [
        "def deposita_para_todas(contas):\n",
        "  for conta in contas:\n",
        "    conta.deposita(100)\n",
        "contas = [conta_kawhan, conta_kawhana]\n",
        "print(contas[0], contas[1])\n",
        "deposita_para_todas(contas)\n",
        "print(contas[0], contas[1])"
      ],
      "metadata": {
        "id": "LlILAy_RKwvV",
        "colab": {
          "base_uri": "https://localhost:8080/"
        },
        "outputId": "13f77593-9312-4cf5-cd89-a2a3dc637b11"
      },
      "execution_count": null,
      "outputs": [
        {
          "output_type": "stream",
          "name": "stdout",
          "text": [
            "[>>Código 15 Saldo 800<<] [>>Código 4000 Saldo 1200<<]\n",
            "[>>Código 15 Saldo 900<<] [>>Código 4000 Saldo 1300<<]\n"
          ]
        }
      ]
    },
    {
      "cell_type": "code",
      "source": [
        "contas.insert(0, 76)\n",
        "print(contas[0], contas[1], contas[2])"
      ],
      "metadata": {
        "colab": {
          "base_uri": "https://localhost:8080/"
        },
        "id": "uPwCLphy5zFH",
        "outputId": "f8d32433-52d9-4ee5-b2db-62a3124a8083"
      },
      "execution_count": null,
      "outputs": [
        {
          "output_type": "stream",
          "name": "stdout",
          "text": [
            "76 [>>Código 15 Saldo 900<<] [>>Código 4000 Saldo 1300<<]\n"
          ]
        }
      ]
    },
    {
      "cell_type": "code",
      "source": [
        "# Quando eu tenho um número de espaços fixos desde o momento que iniciei utilizamos tupla\n",
        "guilherme = ('Guilherme', 37, 1981)\n",
        "daniela = ('Daniela', 31, 1987)"
      ],
      "metadata": {
        "id": "FtqitpGC6yox"
      },
      "execution_count": null,
      "outputs": []
    },
    {
      "cell_type": "code",
      "source": [
        "def deposita(conta): # variação \"funcional\" (separando o comportamento dos dados)\n",
        "  novo_saldo = conta[1] + 100\n",
        "  codigo = conta[0]\n",
        "  return (codigo, novo_saldo)\n",
        "\n",
        "conta_do_gui = (15, 1000)\n",
        "print(conta_do_gui)\n",
        "conta_do_gui = deposita(conta_do_gui)\n",
        "print(conta_do_gui)"
      ],
      "metadata": {
        "colab": {
          "base_uri": "https://localhost:8080/"
        },
        "id": "cQYllqHn7zcL",
        "outputId": "5b867cb6-33f4-4aee-d2a2-d8ea9c72bdab"
      },
      "execution_count": null,
      "outputs": [
        {
          "output_type": "stream",
          "name": "stdout",
          "text": [
            "(15, 1000)\n",
            "(15, 1100)\n"
          ]
        }
      ]
    },
    {
      "cell_type": "code",
      "source": [
        "# Lista de tuplas\n",
        "usuarios = [guilherme, daniela]\n",
        "usuarios"
      ],
      "metadata": {
        "colab": {
          "base_uri": "https://localhost:8080/"
        },
        "id": "YfjavHmc9Ywo",
        "outputId": "a96abe1d-2492-4e88-fbb4-e7ee4cb64eb7"
      },
      "execution_count": null,
      "outputs": [
        {
          "output_type": "execute_result",
          "data": {
            "text/plain": [
              "[('Guilherme', 37, 1981), ('Daniela', 31, 1987)]"
            ]
          },
          "metadata": {},
          "execution_count": 42
        }
      ]
    },
    {
      "cell_type": "code",
      "source": [
        "usuarios.append(('Paulo', 39, 1979))"
      ],
      "metadata": {
        "id": "eNsDvs5BAY4b"
      },
      "execution_count": null,
      "outputs": []
    },
    {
      "cell_type": "code",
      "source": [
        "usuarios"
      ],
      "metadata": {
        "colab": {
          "base_uri": "https://localhost:8080/"
        },
        "id": "NlFwYRMeAhIK",
        "outputId": "6a6c4e51-1cf1-4dc8-a114-fbeca0a1b941"
      },
      "execution_count": null,
      "outputs": [
        {
          "output_type": "execute_result",
          "data": {
            "text/plain": [
              "[('Guilherme', 37, 1981), ('Daniela', 31, 1987), ('Paulo', 39, 1979)]"
            ]
          },
          "metadata": {},
          "execution_count": 45
        }
      ]
    },
    {
      "cell_type": "code",
      "source": [
        "conta_do_gui = ContaCorrente(15)\n",
        "conta_do_gui.deposita(500)\n",
        "conta_da_dani = ContaCorrente(4000)\n",
        "conta_da_dani.deposita(1000)\n",
        "\n",
        "#Tupla de contas(Objetos)\n",
        "# Os objetos da tupla por serem referencias são mutaveis\n",
        "contas = (conta_do_gui, conta_da_dani)\n",
        "# Como é por referencia o valor dos objetos podem ser mudados\n",
        "\n",
        "contas"
      ],
      "metadata": {
        "colab": {
          "base_uri": "https://localhost:8080/"
        },
        "id": "Rak8SnQ2AlOa",
        "outputId": "39aecb01-bde3-47b1-aa93-de357f9c675e"
      },
      "execution_count": null,
      "outputs": [
        {
          "output_type": "execute_result",
          "data": {
            "text/plain": [
              "(<__main__.ContaCorrente at 0x7f9ffaa5a350>,\n",
              " <__main__.ContaCorrente at 0x7f9ffaa5a910>)"
            ]
          },
          "metadata": {},
          "execution_count": 47
        }
      ]
    },
    {
      "cell_type": "markdown",
      "source": [
        "#Listas e polimorfismo\n",
        "## Herança e polimorfismo"
      ],
      "metadata": {
        "id": "jMjiVKrzGHEL"
      }
    },
    {
      "cell_type": "code",
      "source": [
        "from abc import abstractmethod, ABCMeta\n",
        "class Conta(metaclass=ABCMeta):\n",
        "  def __init__(self, codigo):\n",
        "    self._codigo = codigo\n",
        "    self._saldo = 0\n",
        "\n",
        "  def deposita(self, valor):\n",
        "    self._saldo += valor\n",
        "  \n",
        "  @abstractmethod\n",
        "  def passa_o_mes(self):\n",
        "    pass\n",
        "  \n",
        "  def __str__(self):\n",
        "    return f\"[>>Código {self._codigo} Saldo {self._saldo}<<]\""
      ],
      "metadata": {
        "id": "vFfCfWvMGLsG"
      },
      "execution_count": null,
      "outputs": []
    },
    {
      "cell_type": "code",
      "source": [
        "print(Conta(88))"
      ],
      "metadata": {
        "colab": {
          "base_uri": "https://localhost:8080/",
          "height": 165
        },
        "id": "n7YJ8Ha1Gg-_",
        "outputId": "92daefad-a070-4817-b083-3a26acda5dea"
      },
      "execution_count": null,
      "outputs": [
        {
          "output_type": "error",
          "ename": "TypeError",
          "evalue": "ignored",
          "traceback": [
            "\u001b[0;31m---------------------------------------------------------------------------\u001b[0m",
            "\u001b[0;31mTypeError\u001b[0m                                 Traceback (most recent call last)",
            "\u001b[0;32m<ipython-input-75-bcabbe50454b>\u001b[0m in \u001b[0;36m<module>\u001b[0;34m()\u001b[0m\n\u001b[0;32m----> 1\u001b[0;31m \u001b[0mprint\u001b[0m\u001b[0;34m(\u001b[0m\u001b[0mConta\u001b[0m\u001b[0;34m(\u001b[0m\u001b[0;36m88\u001b[0m\u001b[0;34m)\u001b[0m\u001b[0;34m)\u001b[0m\u001b[0;34m\u001b[0m\u001b[0;34m\u001b[0m\u001b[0m\n\u001b[0m",
            "\u001b[0;31mTypeError\u001b[0m: Can't instantiate abstract class Conta with abstract methods passa_o_mes"
          ]
        }
      ]
    },
    {
      "cell_type": "code",
      "source": [
        "# Temos duas outras classes que Herdam conta e fazem operações diferentes\n",
        "\n",
        "class ContaCorrente(Conta):\n",
        "  def passa_o_mes(self):\n",
        "    self._saldo -= 2\n",
        "\n",
        "class ContaPoupanca(Conta):\n",
        "  def passa_o_mes(self):\n",
        "    self._saldo *= 1.01\n",
        "    self._saldo -= 3"
      ],
      "metadata": {
        "id": "cBYYDiz1GidP"
      },
      "execution_count": null,
      "outputs": []
    },
    {
      "cell_type": "code",
      "source": [
        "conta16 = ContaCorrente(16)\n",
        "conta16.deposita(1000)\n",
        "conta16.passa_o_mes()\n",
        "print(conta16)"
      ],
      "metadata": {
        "colab": {
          "base_uri": "https://localhost:8080/"
        },
        "id": "6t3kj1XAGrnP",
        "outputId": "286b1cc2-f54b-4db0-9e27-9bec32db2919"
      },
      "execution_count": null,
      "outputs": [
        {
          "output_type": "stream",
          "name": "stdout",
          "text": [
            "[>>Código 16 Saldo 998<<]\n"
          ]
        }
      ]
    },
    {
      "cell_type": "code",
      "source": [
        "conta17 = ContaPoupanca(16)\n",
        "conta17.deposita(1000)\n",
        "conta17.passa_o_mes()\n",
        "print(conta17)"
      ],
      "metadata": {
        "colab": {
          "base_uri": "https://localhost:8080/"
        },
        "id": "M7Wwewk9HdVX",
        "outputId": "7ac2a555-d29f-481a-fef6-9781006249e9"
      },
      "execution_count": null,
      "outputs": [
        {
          "output_type": "stream",
          "name": "stdout",
          "text": [
            "[>>Código 16 Saldo 1007.0<<]\n"
          ]
        }
      ]
    },
    {
      "cell_type": "code",
      "source": [
        "conta16 = ContaCorrente(16)\n",
        "conta16.deposita(1000)\n",
        "\n",
        "conta17 = ContaPoupanca(16)\n",
        "conta17.deposita(1000)\n",
        "contas = [conta16, conta17]\n",
        "\n",
        "# Não importa na lista se eu tenho conta corrente ou conta poupança\n",
        "# O que importa é que tenha passado o mes\n",
        "for conta in contas:\n",
        "  conta.passa_o_mes() # duck typing se ele responde ao passa o mes, passa o mes sim\n",
        "  print(conta)\n"
      ],
      "metadata": {
        "colab": {
          "base_uri": "https://localhost:8080/"
        },
        "id": "L0EhKd1vHh3A",
        "outputId": "1e90f763-0683-4c9b-91fe-36721268c3c2"
      },
      "execution_count": null,
      "outputs": [
        {
          "output_type": "stream",
          "name": "stdout",
          "text": [
            "[>>Código 16 Saldo 998<<]\n",
            "[>>Código 16 Saldo 1007.0<<]\n"
          ]
        }
      ]
    },
    {
      "cell_type": "markdown",
      "source": [
        "# Evitamos de usar array puro, se precisamos de trabalho numérico costume usar o numpy"
      ],
      "metadata": {
        "id": "1fECqgDlI380"
      }
    },
    {
      "cell_type": "code",
      "source": [
        "# Array padrão do python ele é super especifico\n",
        "import array as arr\n",
        "\n",
        "# Quero criar um array com tipos especificos relativos a ponto flutuante\n",
        "# Depois eu passo uma lista com os números\n",
        "# Array é para você ter uma eficacia maior quando estiver trabalhando com números\n",
        "# Todos os elementos tem de ser desse tipo, que estão dentro da lista\n",
        "# Onde é importante o alto desempenho de funções matematicas usamos o Numpy\n",
        "arr.array('d', [1.0, 3.5])"
      ],
      "metadata": {
        "colab": {
          "base_uri": "https://localhost:8080/"
        },
        "id": "7Z5RLlgzI6rZ",
        "outputId": "e6985493-3807-4496-bff0-6f8876ee4223"
      },
      "execution_count": null,
      "outputs": [
        {
          "output_type": "execute_result",
          "data": {
            "text/plain": [
              "array('d', [1.0, 3.5])"
            ]
          },
          "metadata": {},
          "execution_count": 65
        }
      ]
    },
    {
      "cell_type": "code",
      "source": [
        "import numpy as np\n",
        "\n",
        "# Crio um array passando valores\n",
        "numeros = np.array([1, 3.5])\n",
        "numeros"
      ],
      "metadata": {
        "colab": {
          "base_uri": "https://localhost:8080/"
        },
        "id": "H106mxL0JeTH",
        "outputId": "4deabf4c-9d8e-4e58-8fbc-d292dd03e008"
      },
      "execution_count": null,
      "outputs": [
        {
          "output_type": "execute_result",
          "data": {
            "text/plain": [
              "array([1. , 3.5])"
            ]
          },
          "metadata": {},
          "execution_count": 68
        }
      ]
    },
    {
      "cell_type": "code",
      "source": [
        "# Se eu somar 3 nesses números eu vou ta somando 3 em todos\n",
        "numeros += 3\n",
        "print(numeros)"
      ],
      "metadata": {
        "colab": {
          "base_uri": "https://localhost:8080/"
        },
        "id": "LjLfErujKRDl",
        "outputId": "0a058ee4-e9c3-4762-d362-c104e045717b"
      },
      "execution_count": null,
      "outputs": [
        {
          "output_type": "stream",
          "name": "stdout",
          "text": [
            "[4.  6.5]\n"
          ]
        }
      ]
    },
    {
      "cell_type": "markdown",
      "source": [
        "# Método abstrato "
      ],
      "metadata": {
        "id": "GqTdp16RKybR"
      }
    },
    {
      "cell_type": "code",
      "source": [
        "# Se você tem um método na sua classe mae e você quer que todos sejam forçados a implementar\n",
        "# Utilizamos um abstract method \n",
        "\n",
        "\n",
        "from abc import abstractmethod, ABCMeta\n",
        "\n",
        "class Conta(metaclass=ABCMeta):\n",
        "  def __init__(self, codigo):\n",
        "    self._codigo = codigo\n",
        "    self._saldo = 0\n",
        "\n",
        "  def deposita(self, valor):\n",
        "    self._saldo += valor\n",
        "  \n",
        "  @abstractmethod\n",
        "  def passa_o_mes(self):\n",
        "    pass\n",
        "  \n",
        "  def __str__(self):\n",
        "    return f\"[>>Código {self._codigo} Saldo {self._saldo}<<]\""
      ],
      "metadata": {
        "id": "bRGxYe4KMIVB"
      },
      "execution_count": null,
      "outputs": []
    },
    {
      "cell_type": "code",
      "source": [
        "class ContaCorrente(Conta):\n",
        "  def passa_o_mes(self):\n",
        "    self._saldo -= 2\n",
        "\n",
        "class ContaPoupanca(Conta):\n",
        "  def passa_o_mes(self):\n",
        "    self._saldo *= 1.01\n",
        "    self._saldo -= 3\n",
        "\n",
        "class contaInvestimento(Conta):\n",
        "  pass"
      ],
      "metadata": {
        "id": "pXnbRTxxK2Hm"
      },
      "execution_count": null,
      "outputs": []
    },
    {
      "cell_type": "code",
      "source": [
        ""
      ],
      "metadata": {
        "id": "iDqqcu7PMQNR"
      },
      "execution_count": null,
      "outputs": []
    },
    {
      "cell_type": "markdown",
      "source": [
        "# Igualdade e o \"__eq__\""
      ],
      "metadata": {
        "id": "qtsZ7Pl5NapU"
      }
    },
    {
      "cell_type": "code",
      "source": [
        "class ContaSalario:\n",
        "  def __init__(self, codigo):\n",
        "    self._codigo = codigo\n",
        "    self._saldo = 0\n",
        "\n",
        "  def deposita(self, valor):\n",
        "    self._saldo += valor\n",
        "  \n",
        "  def __str__(self):\n",
        "    return f\"[>>Codigo: {self._codigo} | Saldo: {self._saldo} <<]\"\n",
        "\n",
        "  # Meu quesito de igualdade pode mudar\n",
        "  def __eq__(self, outro):\n",
        "    return self._codigo == outro._codigo"
      ],
      "metadata": {
        "id": "A6_3t0DhNdts"
      },
      "execution_count": null,
      "outputs": []
    },
    {
      "cell_type": "code",
      "source": [
        "conta_1 = ContaSalario(37)\n",
        "print(conta_1)"
      ],
      "metadata": {
        "colab": {
          "base_uri": "https://localhost:8080/"
        },
        "id": "cjTpCx-hOAUu",
        "outputId": "76109b68-ae3a-4b15-9c89-f0ab8752879f"
      },
      "execution_count": null,
      "outputs": [
        {
          "output_type": "stream",
          "name": "stdout",
          "text": [
            "[>>Codigo: 37 | Saldo: 0 <<]\n"
          ]
        }
      ]
    },
    {
      "cell_type": "code",
      "source": [
        "conta_2 = ContaSalario(37)"
      ],
      "metadata": {
        "id": "DBpj2wpaOQfO"
      },
      "execution_count": null,
      "outputs": []
    },
    {
      "cell_type": "code",
      "source": [
        "# Por padrão o == vai retornar true se no caso as variaveis estiverem referenciando\n",
        "# Os mesmos objetos\n",
        "conta_1 == conta_2"
      ],
      "metadata": {
        "colab": {
          "base_uri": "https://localhost:8080/"
        },
        "id": "kXX1bKhFOYps",
        "outputId": "c71189a5-3d7e-4a3c-f278-bc8d3d1a3bda"
      },
      "execution_count": null,
      "outputs": [
        {
          "output_type": "execute_result",
          "data": {
            "text/plain": [
              "True"
            ]
          },
          "metadata": {},
          "execution_count": 94
        }
      ]
    },
    {
      "cell_type": "code",
      "source": [
        "# Quando mudamos a classe mae no jupiter é recomendado reiniciar os objetos de novo\n",
        "conta_1 = ContaSalario(37)\n",
        "conta_2 = ContaSalario(37)\n",
        "\n",
        "conta_1 == conta_2"
      ],
      "metadata": {
        "colab": {
          "base_uri": "https://localhost:8080/"
        },
        "id": "zQnos23DOczb",
        "outputId": "e07957fc-dc10-4958-a38c-9a4900afd477"
      },
      "execution_count": null,
      "outputs": [
        {
          "output_type": "execute_result",
          "data": {
            "text/plain": [
              "True"
            ]
          },
          "metadata": {},
          "execution_count": 95
        }
      ]
    },
    {
      "cell_type": "code",
      "source": [
        "conta_1 in [conta_2]\n",
        "conta_2 in [conta_1]"
      ],
      "metadata": {
        "colab": {
          "base_uri": "https://localhost:8080/"
        },
        "id": "0Bit5osHPclr",
        "outputId": "78a7f0b1-51d5-4231-89a8-9761d5dc4548"
      },
      "execution_count": null,
      "outputs": [
        {
          "output_type": "execute_result",
          "data": {
            "text/plain": [
              "True"
            ]
          },
          "metadata": {},
          "execution_count": 96
        }
      ]
    },
    {
      "cell_type": "code",
      "source": [
        "# é importante complementar seu eq com mais verificações\n",
        "class ContaSalario:\n",
        "  def __init__(self, codigo):\n",
        "    self._codigo = codigo\n",
        "    self._saldo = 0\n",
        "\n",
        "  def deposita(self, valor):\n",
        "    self._saldo += valor\n",
        "  \n",
        "  def __str__(self):\n",
        "    return f\"[>>Codigo: {self._codigo} | Saldo: {self._saldo} <<]\"\n",
        "\n",
        "  # Meu quesito de igualdade pode mudar\n",
        "  def __eq__(self, outro):\n",
        "    # Verificando o tipo da nossa variavel\n",
        "    # é comum fazer isso antes\n",
        "    if (type(outro) !=  ContaSalario):\n",
        "      return False\n",
        "\n",
        "    return self._codigo == outro._codigo and self._saldo == outro._saldo"
      ],
      "metadata": {
        "id": "3r7POGJMPphv"
      },
      "execution_count": null,
      "outputs": []
    },
    {
      "cell_type": "code",
      "source": [
        "conta_1 = ContaSalario(37)\n",
        "conta_2 = ContaSalario(37)\n",
        "\n",
        "conta_1 == conta_2"
      ],
      "metadata": {
        "colab": {
          "base_uri": "https://localhost:8080/"
        },
        "id": "i0RM5mR-P6Ko",
        "outputId": "b57d6b58-be15-4510-d232-c5540d393b83"
      },
      "execution_count": null,
      "outputs": [
        {
          "output_type": "execute_result",
          "data": {
            "text/plain": [
              "True"
            ]
          },
          "metadata": {},
          "execution_count": 106
        }
      ]
    },
    {
      "cell_type": "code",
      "source": [
        "conta_1.deposita(10)"
      ],
      "metadata": {
        "id": "v9uMBowNP74W"
      },
      "execution_count": null,
      "outputs": []
    },
    {
      "cell_type": "code",
      "source": [
        "conta_1 == conta_2"
      ],
      "metadata": {
        "colab": {
          "base_uri": "https://localhost:8080/"
        },
        "id": "NH5TP0zgP_wV",
        "outputId": "9c6d53f7-f22d-4c31-86ab-7ca7a16f069a"
      },
      "execution_count": null,
      "outputs": [
        {
          "output_type": "execute_result",
          "data": {
            "text/plain": [
              "False"
            ]
          },
          "metadata": {},
          "execution_count": 108
        }
      ]
    },
    {
      "cell_type": "code",
      "source": [
        "conta1 = ContaSalario(37)\n",
        "conta2 = ContaCorrente(37)\n",
        "\n",
        "conta1 == conta2"
      ],
      "metadata": {
        "colab": {
          "base_uri": "https://localhost:8080/"
        },
        "id": "hi8loBzsQAXD",
        "outputId": "2c7da2c4-dc59-46ff-f0a1-c793db1656a9"
      },
      "execution_count": null,
      "outputs": [
        {
          "output_type": "execute_result",
          "data": {
            "text/plain": [
              "False"
            ]
          },
          "metadata": {},
          "execution_count": 121
        }
      ]
    },
    {
      "cell_type": "code",
      "source": [
        "# Posso também ter a verificação de conta de classes que herdam de conta salario\n",
        "\n",
        "# é importante complementar seu eq com mais verificações\n",
        "class ContaSalario:\n",
        "  def __init__(self, codigo):\n",
        "    self._codigo = codigo\n",
        "    self._saldo = 0\n",
        "\n",
        "  def deposita(self, valor):\n",
        "    self._saldo += valor\n",
        "  \n",
        "  def __str__(self):\n",
        "    return f\"[>>Codigo: {self._codigo} | Saldo: {self._saldo} <<]\"\n",
        "\n",
        "  # Meu quesito de igualdade pode mudar\n",
        "  def __eq__(self, outro):\n",
        "    # Verificando o tipo da nossa variavel\n",
        "    # é comum fazer isso antes\n",
        "    # verificando se é uma instancia\n",
        "    if (not isinstance(outro, ContaSalario)):\n",
        "      return False\n",
        "\n",
        "    return self._codigo == outro._codigo and self._saldo == outro._saldo\n",
        "\n",
        "class ContaMultiploSalario(ContaSalario):\n",
        "  pass\n",
        "\n"
      ],
      "metadata": {
        "id": "N0OWc1LxQjVI"
      },
      "execution_count": null,
      "outputs": []
    },
    {
      "cell_type": "code",
      "source": [
        "# Verificando uma instancia\n",
        "# Um objeto do tipo filho é uma instancia de seu pai tmb\n",
        "\n",
        "\n",
        "conta_3 = ContaMultiploSalario(37)\n",
        "conta_2 = ContaSalario(37)"
      ],
      "metadata": {
        "id": "dy79gFQgRDPx"
      },
      "execution_count": null,
      "outputs": []
    },
    {
      "cell_type": "code",
      "source": [
        "conta_2 == conta_3"
      ],
      "metadata": {
        "colab": {
          "base_uri": "https://localhost:8080/"
        },
        "id": "R59oOUlMRNOz",
        "outputId": "75775b91-55d7-448e-c746-547ac4fdcea3"
      },
      "execution_count": null,
      "outputs": [
        {
          "output_type": "execute_result",
          "data": {
            "text/plain": [
              "True"
            ]
          },
          "metadata": {},
          "execution_count": 160
        }
      ]
    },
    {
      "cell_type": "code",
      "source": [
        ""
      ],
      "metadata": {
        "id": "AHKXgLqrRy65"
      },
      "execution_count": null,
      "outputs": []
    },
    {
      "cell_type": "markdown",
      "source": [
        "# Builtins como enumerated, range e desempacotamento automatico de tuplas"
      ],
      "metadata": {
        "id": "-Xmz7ZDWUbCE"
      }
    },
    {
      "cell_type": "code",
      "source": [
        "idades = [15, 87, 65, 56, 32, 49, 37, 32]"
      ],
      "metadata": {
        "id": "9e82rR3tUcgb"
      },
      "execution_count": null,
      "outputs": []
    },
    {
      "cell_type": "code",
      "source": [
        "for i in range(len(idades)):\n",
        "  print(i, idades[i])"
      ],
      "metadata": {
        "colab": {
          "base_uri": "https://localhost:8080/"
        },
        "id": "DtGU5mUEUm-j",
        "outputId": "871bddfc-cf05-4d77-dafb-0d7b800605c1"
      },
      "execution_count": null,
      "outputs": [
        {
          "output_type": "stream",
          "name": "stdout",
          "text": [
            "0 15\n",
            "1 87\n",
            "2 65\n",
            "3 56\n",
            "4 32\n",
            "5 49\n",
            "6 37\n",
            "7 32\n"
          ]
        }
      ]
    },
    {
      "cell_type": "code",
      "source": [
        "range(len(idades)) # lazy..."
      ],
      "metadata": {
        "colab": {
          "base_uri": "https://localhost:8080/"
        },
        "id": "bEWZXM5BU2Lw",
        "outputId": "e5c87218-2b6f-416d-87d3-35716f400e3c"
      },
      "execution_count": null,
      "outputs": [
        {
          "output_type": "execute_result",
          "data": {
            "text/plain": [
              "range(0, 8)"
            ]
          },
          "metadata": {},
          "execution_count": 172
        }
      ]
    },
    {
      "cell_type": "code",
      "source": [
        "enumerate(idades) # lazy..."
      ],
      "metadata": {
        "colab": {
          "base_uri": "https://localhost:8080/"
        },
        "id": "JYJYojGAVkMk",
        "outputId": "8a28c96b-9ed9-424f-e535-a103e921fbc6"
      },
      "execution_count": null,
      "outputs": [
        {
          "output_type": "execute_result",
          "data": {
            "text/plain": [
              "<enumerate at 0x7f9ffa97ebe0>"
            ]
          },
          "metadata": {},
          "execution_count": 173
        }
      ]
    },
    {
      "cell_type": "code",
      "source": [
        "list(range(len(idades))) # forcei a geração"
      ],
      "metadata": {
        "colab": {
          "base_uri": "https://localhost:8080/"
        },
        "id": "END0i7f_V11D",
        "outputId": "d79b27a3-68ff-405a-aafa-8393aa1b5c18"
      },
      "execution_count": null,
      "outputs": [
        {
          "output_type": "execute_result",
          "data": {
            "text/plain": [
              "[0, 1, 2, 3, 4, 5, 6, 7]"
            ]
          },
          "metadata": {},
          "execution_count": 174
        }
      ]
    },
    {
      "cell_type": "code",
      "source": [
        "list(enumerate(idades))"
      ],
      "metadata": {
        "colab": {
          "base_uri": "https://localhost:8080/"
        },
        "id": "pAdRro51WHt9",
        "outputId": "8abb885d-654b-482f-e51d-abb6695c89b0"
      },
      "execution_count": null,
      "outputs": [
        {
          "output_type": "execute_result",
          "data": {
            "text/plain": [
              "[(0, 15), (1, 87), (2, 65), (3, 56), (4, 32), (5, 49), (6, 37), (7, 32)]"
            ]
          },
          "metadata": {},
          "execution_count": 175
        }
      ]
    },
    {
      "cell_type": "code",
      "source": [
        "# Posso desempacotar minha tupla do jeito que eu quero\n",
        "for indice, valor in enumerate(idades): # Unpacking da minha tupla\n",
        "  print(f\"Indice: {indice}, Idade: {valor}\")"
      ],
      "metadata": {
        "colab": {
          "base_uri": "https://localhost:8080/"
        },
        "id": "s4lvUm7lWJjo",
        "outputId": "1d989333-02df-4cf5-a7ad-5668979df5d4"
      },
      "execution_count": null,
      "outputs": [
        {
          "output_type": "stream",
          "name": "stdout",
          "text": [
            "Indice: 0, Idade: 15\n",
            "Indice: 1, Idade: 87\n",
            "Indice: 2, Idade: 65\n",
            "Indice: 3, Idade: 56\n",
            "Indice: 4, Idade: 32\n",
            "Indice: 5, Idade: 49\n",
            "Indice: 6, Idade: 37\n",
            "Indice: 7, Idade: 32\n"
          ]
        }
      ]
    },
    {
      "cell_type": "code",
      "source": [
        "usuarios = [\n",
        "            (\"Guilherme\", 37, 1981),\n",
        "            (\"Daniela\", 31, 1987),\n",
        "            (\"Paulo\", 39, 1979)\n",
        "]\n",
        "\n",
        "for nome, idade, nascimento in usuarios: # Posso desempacotar tudo e usar no print somente o que quero\n",
        "  print(nome)"
      ],
      "metadata": {
        "colab": {
          "base_uri": "https://localhost:8080/"
        },
        "id": "NgoIlwkYWVb-",
        "outputId": "15cbaefe-9b39-4d8a-bcfd-87a50dbf2e19"
      },
      "execution_count": null,
      "outputs": [
        {
          "output_type": "stream",
          "name": "stdout",
          "text": [
            "Guilherme\n",
            "Daniela\n",
            "Paulo\n"
          ]
        }
      ]
    },
    {
      "cell_type": "code",
      "source": [
        "for nome, _, _ in usuarios: # Posso desempacotar só o que quero usando _\n",
        "  print(nome)"
      ],
      "metadata": {
        "colab": {
          "base_uri": "https://localhost:8080/"
        },
        "id": "Po6jH5zHXD8v",
        "outputId": "5897d04e-88f0-49ed-9068-2261f9463480"
      },
      "execution_count": null,
      "outputs": [
        {
          "output_type": "stream",
          "name": "stdout",
          "text": [
            "Guilherme\n",
            "Daniela\n",
            "Paulo\n"
          ]
        }
      ]
    },
    {
      "cell_type": "markdown",
      "source": [
        "# Ordenação básica"
      ],
      "metadata": {
        "id": "WYCOkFqQYFCv"
      }
    },
    {
      "cell_type": "code",
      "source": [
        "sorted(idades) # Ordena"
      ],
      "metadata": {
        "colab": {
          "base_uri": "https://localhost:8080/"
        },
        "id": "O0VIsVykYGc_",
        "outputId": "343cb6d6-80e9-45c2-f715-f6c6981c5563"
      },
      "execution_count": null,
      "outputs": [
        {
          "output_type": "execute_result",
          "data": {
            "text/plain": [
              "[15, 32, 32, 37, 49, 56, 65, 87]"
            ]
          },
          "metadata": {},
          "execution_count": 186
        }
      ]
    },
    {
      "cell_type": "code",
      "source": [
        "list(reversed(idades)) # reverte a ordem da sequencia, "
      ],
      "metadata": {
        "colab": {
          "base_uri": "https://localhost:8080/"
        },
        "id": "rNy6M5JqYSi6",
        "outputId": "8378a57b-e7d4-482d-f470-93f516f735ba"
      },
      "execution_count": null,
      "outputs": [
        {
          "output_type": "execute_result",
          "data": {
            "text/plain": [
              "[32, 37, 49, 32, 56, 65, 87, 15]"
            ]
          },
          "metadata": {},
          "execution_count": 188
        }
      ]
    },
    {
      "cell_type": "code",
      "source": [
        "sorted(idades, reverse=True) # Invertendo com sorted,o sorted já devolve a lista completa invertida"
      ],
      "metadata": {
        "colab": {
          "base_uri": "https://localhost:8080/"
        },
        "id": "OLJLlQQjYbFD",
        "outputId": "926d769f-4faa-415a-fc64-1a69a8155db9"
      },
      "execution_count": null,
      "outputs": [
        {
          "output_type": "execute_result",
          "data": {
            "text/plain": [
              "[87, 65, 56, 49, 37, 32, 32, 15]"
            ]
          },
          "metadata": {},
          "execution_count": 190
        }
      ]
    },
    {
      "cell_type": "code",
      "source": [
        "list(reversed(sorted(idades))) # Invertendo mas indo devagar"
      ],
      "metadata": {
        "colab": {
          "base_uri": "https://localhost:8080/"
        },
        "id": "v0Nu6KoUYxnN",
        "outputId": "9a9f2cb1-63b4-4862-90ad-5c254221a153"
      },
      "execution_count": null,
      "outputs": [
        {
          "output_type": "execute_result",
          "data": {
            "text/plain": [
              "[87, 65, 56, 49, 37, 32, 32, 15]"
            ]
          },
          "metadata": {},
          "execution_count": 192
        }
      ]
    },
    {
      "cell_type": "code",
      "source": [
        "idades.sort() # Tomar cuidado porque isso muda a lista inicial ordenando"
      ],
      "metadata": {
        "id": "4glm9cR3ZMnS"
      },
      "execution_count": null,
      "outputs": []
    },
    {
      "cell_type": "code",
      "source": [
        "idades"
      ],
      "metadata": {
        "colab": {
          "base_uri": "https://localhost:8080/"
        },
        "id": "64ORNXl-ZWGS",
        "outputId": "39841822-8872-487e-bbcb-130279a27e29"
      },
      "execution_count": null,
      "outputs": [
        {
          "output_type": "execute_result",
          "data": {
            "text/plain": [
              "[15, 32, 32, 37, 49, 56, 65, 87]"
            ]
          },
          "metadata": {},
          "execution_count": 194
        }
      ]
    },
    {
      "cell_type": "markdown",
      "source": [
        "# Ordenação de objetos sem ordem natural"
      ],
      "metadata": {
        "id": "fDHsg7_7d3bF"
      }
    },
    {
      "cell_type": "code",
      "source": [
        "# String também possuem uma ordem que chamamos de ordem natural\n"
      ],
      "metadata": {
        "id": "77eKP8X1d5dP"
      },
      "execution_count": null,
      "outputs": []
    },
    {
      "cell_type": "code",
      "source": [
        "class ContaSalario:\n",
        "  def __init__(self, codigo):\n",
        "    self._codigo = codigo\n",
        "    self._saldo = 0\n",
        "\n",
        "  def deposita(self, valor):\n",
        "    self._saldo += valor\n",
        "  \n",
        "  def __str__(self):\n",
        "    return f\"[>>Codigo: {self._codigo} | Saldo: {self._saldo} <<]\"\n",
        "\n",
        "  def __eq__(self, outro):\n",
        "    if (not isinstance(outro, ContaSalario)):\n",
        "      return False\n",
        "\n",
        "    return self._codigo == outro._codigo and self._saldo == outro._saldo\n",
        "  \n",
        "  \n",
        "\n",
        "class ContaMultiploSalario(ContaSalario):\n",
        "  pass"
      ],
      "metadata": {
        "id": "T7nj4shPetkH"
      },
      "execution_count": null,
      "outputs": []
    },
    {
      "cell_type": "code",
      "source": [
        "conta_do_guilherme = ContaSalario(17)\n",
        "conta_do_guilherme.deposita(500)\n",
        "\n",
        "conta_da_daniela = ContaSalario(3)\n",
        "conta_da_daniela.deposita(500)\n",
        "\n",
        "conta_do_paulo = ContaSalario(13)\n",
        "conta_do_paulo.deposita(510)\n",
        "\n",
        "contas = [conta_do_guilherme, conta_da_daniela, conta_do_paulo] "
      ],
      "metadata": {
        "id": "Daa8DPKke07-"
      },
      "execution_count": null,
      "outputs": []
    },
    {
      "cell_type": "code",
      "source": [
        "for conta in contas:\n",
        "  print(conta)"
      ],
      "metadata": {
        "colab": {
          "base_uri": "https://localhost:8080/"
        },
        "id": "T2jBFI27e7Eu",
        "outputId": "dae27cca-3970-4051-da22-ef510ddd4dc0"
      },
      "execution_count": null,
      "outputs": [
        {
          "output_type": "stream",
          "name": "stdout",
          "text": [
            "[>>Codigo: 17 | Saldo: 500 <<]\n",
            "[>>Codigo: 3 | Saldo: 500 <<]\n",
            "[>>Codigo: 13 | Saldo: 510 <<]\n"
          ]
        }
      ]
    },
    {
      "cell_type": "code",
      "source": [
        "sorted(contas)"
      ],
      "metadata": {
        "colab": {
          "base_uri": "https://localhost:8080/",
          "height": 165
        },
        "id": "DK40_t3KfY0C",
        "outputId": "d600bc79-12f9-43a7-aa40-979f1768730f"
      },
      "execution_count": null,
      "outputs": [
        {
          "output_type": "error",
          "ename": "TypeError",
          "evalue": "ignored",
          "traceback": [
            "\u001b[0;31m---------------------------------------------------------------------------\u001b[0m",
            "\u001b[0;31mTypeError\u001b[0m                                 Traceback (most recent call last)",
            "\u001b[0;32m<ipython-input-199-df7230969aa4>\u001b[0m in \u001b[0;36m<module>\u001b[0;34m()\u001b[0m\n\u001b[0;32m----> 1\u001b[0;31m \u001b[0msorted\u001b[0m\u001b[0;34m(\u001b[0m\u001b[0mcontas\u001b[0m\u001b[0;34m)\u001b[0m\u001b[0;34m\u001b[0m\u001b[0;34m\u001b[0m\u001b[0m\n\u001b[0m",
            "\u001b[0;31mTypeError\u001b[0m: '<' not supported between instances of 'ContaSalario' and 'ContaSalario'"
          ]
        }
      ]
    },
    {
      "cell_type": "code",
      "source": [
        "# Eu tenho de passar como vai ser a ordenação dessa lista de objetos\n",
        "# Então eu decidi que vou ordenar pelo saldo\n",
        "# Posso fazer uma função que vai retornar o saldo que vai servir de chave para ordenação\n",
        "\n",
        "def extrai_saldo(conta):\n",
        "  return conta._saldo\n",
        "  # Usar o key para acessar um objeto privado é muito feio\n",
        "  # Reduza seu valor a um objeto comparavel\n",
        "\n",
        "contas_ordenadas = sorted(contas, key=extrai_saldo)"
      ],
      "metadata": {
        "id": "dRRSmBVnfbM5"
      },
      "execution_count": null,
      "outputs": []
    },
    {
      "cell_type": "code",
      "source": [
        "for conta in contas_ordenadas:\n",
        "  print(conta)"
      ],
      "metadata": {
        "colab": {
          "base_uri": "https://localhost:8080/"
        },
        "id": "67lnmtysf5BE",
        "outputId": "cd03eefd-8727-4425-a479-4de016235ac4"
      },
      "execution_count": null,
      "outputs": [
        {
          "output_type": "stream",
          "name": "stdout",
          "text": [
            "[>>Codigo: 17 | Saldo: 500 <<]\n",
            "[>>Codigo: 3 | Saldo: 500 <<]\n",
            "[>>Codigo: 13 | Saldo: 510 <<]\n"
          ]
        }
      ]
    },
    {
      "cell_type": "code",
      "source": [
        "# ele pega um atributo da nossa classe\n",
        "from operator import attrgetter\n",
        "\n",
        "for conta in sorted(contas, key=attrgetter(\"_saldo\")):\n",
        "  print(conta)"
      ],
      "metadata": {
        "colab": {
          "base_uri": "https://localhost:8080/"
        },
        "id": "yrASqs3Ef8fg",
        "outputId": "00d2e56b-80a8-49be-feb4-d374d44af997"
      },
      "execution_count": null,
      "outputs": [
        {
          "output_type": "stream",
          "name": "stdout",
          "text": [
            "[>>Codigo: 17 | Saldo: 500 <<]\n",
            "[>>Codigo: 3 | Saldo: 500 <<]\n",
            "[>>Codigo: 13 | Saldo: 510 <<]\n"
          ]
        }
      ]
    },
    {
      "cell_type": "markdown",
      "source": [
        "# Implementando o __lt__"
      ],
      "metadata": {
        "id": "q7AayoMrhQ_D"
      }
    },
    {
      "cell_type": "code",
      "source": [
        "class ContaSalario:\n",
        "  def __init__(self, codigo):\n",
        "    self._codigo = codigo\n",
        "    self._saldo = 0\n",
        "\n",
        "  def deposita(self, valor):\n",
        "    self._saldo += valor\n",
        "  \n",
        "  def __str__(self):\n",
        "    return f\"[>>Codigo: {self._codigo} | Saldo: {self._saldo} <<]\"\n",
        "\n",
        "  def __eq__(self, outro):\n",
        "    if (not isinstance(outro, ContaSalario)):\n",
        "      return False\n",
        "\n",
        "    return self._codigo == outro._codigo and self._saldo == outro._saldo\n",
        "  \n",
        "  # Criando o operador de <, ou atribuindo essa comparação para nossa classe\n",
        "  def __lt__(self,outro):\n",
        "    return self._saldo < outro._saldo\n",
        "  \n",
        "\n",
        "class ContaMultiploSalario(ContaSalario):\n",
        "  pass"
      ],
      "metadata": {
        "id": "6WF3M1MPhSRC"
      },
      "execution_count": null,
      "outputs": []
    },
    {
      "cell_type": "code",
      "source": [
        "conta_do_guilherme = ContaSalario(17)\n",
        "conta_do_guilherme.deposita(500)\n",
        "\n",
        "conta_da_daniela = ContaSalario(3)\n",
        "conta_da_daniela.deposita(510)\n",
        "\n",
        "conta_do_paulo = ContaSalario(13)\n",
        "conta_do_paulo.deposita(510)\n",
        "\n",
        "contas = [conta_do_guilherme, conta_da_daniela, conta_do_paulo] "
      ],
      "metadata": {
        "id": "TW2p4fV3hqLq"
      },
      "execution_count": null,
      "outputs": []
    },
    {
      "cell_type": "code",
      "source": [
        "conta_do_guilherme < conta_da_daniela"
      ],
      "metadata": {
        "colab": {
          "base_uri": "https://localhost:8080/"
        },
        "id": "jnHMaM6QhvXN",
        "outputId": "819b4534-e58b-498f-86f2-946e5b480ccc"
      },
      "execution_count": null,
      "outputs": [
        {
          "output_type": "execute_result",
          "data": {
            "text/plain": [
              "True"
            ]
          },
          "metadata": {},
          "execution_count": 227
        }
      ]
    },
    {
      "cell_type": "code",
      "source": [
        "conta_do_guilherme > conta_da_daniela\n"
      ],
      "metadata": {
        "colab": {
          "base_uri": "https://localhost:8080/"
        },
        "id": "yoARPTe2hzxk",
        "outputId": "439818a3-ebe5-41a9-996a-88df88b60646"
      },
      "execution_count": null,
      "outputs": [
        {
          "output_type": "execute_result",
          "data": {
            "text/plain": [
              "False"
            ]
          },
          "metadata": {},
          "execution_count": 228
        }
      ]
    },
    {
      "cell_type": "code",
      "source": [
        "for conta in sorted(contas):\n",
        "  print(conta)"
      ],
      "metadata": {
        "colab": {
          "base_uri": "https://localhost:8080/"
        },
        "id": "OOai1Do2iG6M",
        "outputId": "dd097d6c-60e4-4c6c-c2c0-a77d96461449"
      },
      "execution_count": null,
      "outputs": [
        {
          "output_type": "stream",
          "name": "stdout",
          "text": [
            "[>>Codigo: 17 | Saldo: 500 <<]\n",
            "[>>Codigo: 3 | Saldo: 510 <<]\n",
            "[>>Codigo: 13 | Saldo: 510 <<]\n"
          ]
        }
      ]
    },
    {
      "cell_type": "markdown",
      "source": [
        "# Ordenação completa e functools"
      ],
      "metadata": {
        "id": "yf37t_Uoiv6b"
      }
    },
    {
      "cell_type": "code",
      "source": [
        "conta_do_guilherme = ContaSalario(1700)\n",
        "conta_do_guilherme.deposita(500)\n",
        "\n",
        "conta_da_daniela = ContaSalario(3)\n",
        "conta_da_daniela.deposita(500)\n",
        "\n",
        "conta_do_paulo = ContaSalario(133)\n",
        "conta_do_paulo.deposita(500)\n",
        "\n",
        "contas = [conta_do_guilherme, conta_da_daniela, conta_do_paulo] "
      ],
      "metadata": {
        "id": "rD_XbDm4iwmA"
      },
      "execution_count": null,
      "outputs": []
    },
    {
      "cell_type": "code",
      "source": [
        "conta_do_guilherme < conta_da_daniela"
      ],
      "metadata": {
        "colab": {
          "base_uri": "https://localhost:8080/"
        },
        "id": "JwG2KebIi6H4",
        "outputId": "4da81df7-daf4-45c0-90f4-2742370e2048"
      },
      "execution_count": null,
      "outputs": [
        {
          "output_type": "execute_result",
          "data": {
            "text/plain": [
              "False"
            ]
          },
          "metadata": {},
          "execution_count": 231
        }
      ]
    },
    {
      "cell_type": "code",
      "source": [
        "# Quero ordenar quando as contas possuem o mesmo saldo pelo id\n",
        "for conta in sorted(contas, key=attrgetter(\"_saldo\", \"_codigo\")):\n",
        "  print(conta)"
      ],
      "metadata": {
        "colab": {
          "base_uri": "https://localhost:8080/"
        },
        "id": "kjE0q77Si6b8",
        "outputId": "265fc9eb-78cd-49be-e2fc-22b8f796bc49"
      },
      "execution_count": null,
      "outputs": [
        {
          "output_type": "stream",
          "name": "stdout",
          "text": [
            "[>>Codigo: 3 | Saldo: 500 <<]\n",
            "[>>Codigo: 133 | Saldo: 500 <<]\n",
            "[>>Codigo: 1700 | Saldo: 500 <<]\n"
          ]
        }
      ]
    },
    {
      "cell_type": "code",
      "source": [
        "conta_do_guilherme = ContaSalario(1700)\n",
        "conta_do_guilherme.deposita(500)\n",
        "\n",
        "conta_da_daniela = ContaSalario(3)\n",
        "conta_da_daniela.deposita(530)\n",
        "\n",
        "conta_do_paulo = ContaSalario(133)\n",
        "conta_do_paulo.deposita(500)\n",
        "\n",
        "contas = [conta_do_guilherme, conta_da_daniela, conta_do_paulo] "
      ],
      "metadata": {
        "id": "HBMG9VCSjWhl"
      },
      "execution_count": null,
      "outputs": []
    },
    {
      "cell_type": "code",
      "source": [
        "# Quero ordenar quando as contas possuem o mesmo saldo pelo id\n",
        "for conta in sorted(contas, key=attrgetter(\"_saldo\", \"_codigo\")):\n",
        "  print(conta)"
      ],
      "metadata": {
        "colab": {
          "base_uri": "https://localhost:8080/"
        },
        "id": "7WR5coTBjrsa",
        "outputId": "401229d2-88dc-428f-ead4-175b49859018"
      },
      "execution_count": null,
      "outputs": [
        {
          "output_type": "stream",
          "name": "stdout",
          "text": [
            "[>>Codigo: 133 | Saldo: 500 <<]\n",
            "[>>Codigo: 1700 | Saldo: 500 <<]\n",
            "[>>Codigo: 3 | Saldo: 530 <<]\n"
          ]
        }
      ]
    },
    {
      "cell_type": "code",
      "source": [
        "class ContaSalario:\n",
        "  def __init__(self, codigo):\n",
        "    self._codigo = codigo\n",
        "    self._saldo = 0\n",
        "\n",
        "  def deposita(self, valor):\n",
        "    self._saldo += valor\n",
        "  \n",
        "  def __str__(self):\n",
        "    return f\"[>>Codigo: {self._codigo} | Saldo: {self._saldo} <<]\"\n",
        "\n",
        "  def __eq__(self, outro):\n",
        "    if (not isinstance(outro, ContaSalario)):\n",
        "      return False\n",
        "\n",
        "    return self._codigo == outro._codigo and self._saldo == outro._saldo\n",
        "  \n",
        "  # Criando o operador de <, ou atribuindo essa comparação para nossa classe\n",
        "  def __lt__(self,outro):\n",
        "    # comparando no caso de saldos diferentes\n",
        "    if self._saldo != outro._saldo:\n",
        "      return self._saldo < outro._saldo\n",
        "    # Se os saldos foram iguais eu faço a condição apartir do codigo\n",
        "    return self._codigo < outro._codigo\n",
        "\n",
        "  \n",
        "\n",
        "class ContaMultiploSalario(ContaSalario):\n",
        "  pass"
      ],
      "metadata": {
        "id": "RoJi5LuyjtF3"
      },
      "execution_count": null,
      "outputs": []
    },
    {
      "cell_type": "code",
      "source": [
        "conta_do_guilherme = ContaSalario(1700)\n",
        "conta_do_guilherme.deposita(500)\n",
        "\n",
        "conta_da_daniela = ContaSalario(3)\n",
        "conta_da_daniela.deposita(500)\n",
        "\n",
        "conta_do_paulo = ContaSalario(133)\n",
        "conta_do_paulo.deposita(500)\n",
        "\n",
        "contas = [conta_do_guilherme, conta_da_daniela, conta_do_paulo] "
      ],
      "metadata": {
        "id": "RZGW4S03lO--"
      },
      "execution_count": null,
      "outputs": []
    },
    {
      "cell_type": "code",
      "source": [
        "for conta in sorted(contas):\n",
        "  print(conta)"
      ],
      "metadata": {
        "colab": {
          "base_uri": "https://localhost:8080/"
        },
        "id": "151TzgmWlQhZ",
        "outputId": "766d8af3-eef3-4883-8ea7-775844abb1aa"
      },
      "execution_count": null,
      "outputs": [
        {
          "output_type": "stream",
          "name": "stdout",
          "text": [
            "[>>Codigo: 3 | Saldo: 500 <<]\n",
            "[>>Codigo: 133 | Saldo: 500 <<]\n",
            "[>>Codigo: 1700 | Saldo: 500 <<]\n"
          ]
        }
      ]
    },
    {
      "cell_type": "code",
      "source": [
        "conta_do_guilherme = ContaSalario(1700)\n",
        "conta_do_guilherme.deposita(500)\n",
        "\n",
        "conta_da_daniela = ContaSalario(3)\n",
        "conta_da_daniela.deposita(1000)\n",
        "\n",
        "conta_do_paulo = ContaSalario(133)\n",
        "conta_do_paulo.deposita(500)\n",
        "\n",
        "contas = [conta_do_guilherme, conta_da_daniela, conta_do_paulo] "
      ],
      "metadata": {
        "id": "YAY7qPAZlT_L"
      },
      "execution_count": null,
      "outputs": []
    },
    {
      "cell_type": "code",
      "source": [
        "for conta in sorted(contas):\n",
        "  print(conta)"
      ],
      "metadata": {
        "colab": {
          "base_uri": "https://localhost:8080/"
        },
        "id": "-0czp-Q1ltsU",
        "outputId": "5ca59b7f-1d45-4cc8-e4cd-b7d86e27a9e3"
      },
      "execution_count": null,
      "outputs": [
        {
          "output_type": "stream",
          "name": "stdout",
          "text": [
            "[>>Codigo: 133 | Saldo: 500 <<]\n",
            "[>>Codigo: 1700 | Saldo: 500 <<]\n",
            "[>>Codigo: 3 | Saldo: 1000 <<]\n"
          ]
        }
      ]
    },
    {
      "cell_type": "code",
      "source": [
        "conta_do_guilherme <= conta_da_daniela"
      ],
      "metadata": {
        "colab": {
          "base_uri": "https://localhost:8080/",
          "height": 165
        },
        "id": "3mVlnTUSlvCW",
        "outputId": "e62bb0a2-897d-40c3-c595-08d10f2b0d3e"
      },
      "execution_count": null,
      "outputs": [
        {
          "output_type": "error",
          "ename": "TypeError",
          "evalue": "ignored",
          "traceback": [
            "\u001b[0;31m---------------------------------------------------------------------------\u001b[0m",
            "\u001b[0;31mTypeError\u001b[0m                                 Traceback (most recent call last)",
            "\u001b[0;32m<ipython-input-248-5f6d4259fd98>\u001b[0m in \u001b[0;36m<module>\u001b[0;34m()\u001b[0m\n\u001b[0;32m----> 1\u001b[0;31m \u001b[0mconta_do_guilherme\u001b[0m \u001b[0;34m<=\u001b[0m \u001b[0mconta_da_daniela\u001b[0m\u001b[0;34m\u001b[0m\u001b[0;34m\u001b[0m\u001b[0m\n\u001b[0m",
            "\u001b[0;31mTypeError\u001b[0m: '<=' not supported between instances of 'ContaSalario' and 'ContaSalario'"
          ]
        }
      ]
    },
    {
      "cell_type": "code",
      "source": [
        "# implementar o <= \n",
        "\n",
        "from functools import total_ordering\n",
        "\n",
        "@total_ordering\n",
        "class ContaSalario:\n",
        "  def __init__(self, codigo):\n",
        "    self._codigo = codigo\n",
        "    self._saldo = 0\n",
        "\n",
        "  def deposita(self, valor):\n",
        "    self._saldo += valor\n",
        "  \n",
        "  def __str__(self):\n",
        "    return f\"[>>Codigo: {self._codigo} | Saldo: {self._saldo} <<]\"\n",
        "\n",
        "  def __eq__(self, outro):\n",
        "    if (not isinstance(outro, ContaSalario)):\n",
        "      return False\n",
        "\n",
        "    return self._codigo == outro._codigo and self._saldo == outro._saldo\n",
        "  \n",
        "  # Criando o operador de <, ou atribuindo essa comparação para nossa classe\n",
        "  def __lt__(self,outro):\n",
        "    # comparando no caso de saldos diferentes\n",
        "    if self._saldo != outro._saldo:\n",
        "      return self._saldo < outro._saldo\n",
        "    # Se os saldos foram iguais eu faço a condição apartir do codigo\n",
        "    return self._codigo < outro._codigo\n",
        "\n",
        "  \n",
        "\n",
        "class ContaMultiploSalario(ContaSalario):\n",
        "  pass"
      ],
      "metadata": {
        "id": "YeO5Rx6SmY6u"
      },
      "execution_count": null,
      "outputs": []
    },
    {
      "cell_type": "code",
      "source": [
        "conta_do_guilherme = ContaSalario(1700)\n",
        "conta_do_guilherme.deposita(500)\n",
        "\n",
        "conta_da_daniela = ContaSalario(3)\n",
        "conta_da_daniela.deposita(1000)\n",
        "\n",
        "conta_do_paulo = ContaSalario(133)\n",
        "conta_do_paulo.deposita(500)\n",
        "\n",
        "contas = [conta_do_guilherme, conta_da_daniela, conta_do_paulo]"
      ],
      "metadata": {
        "id": "z3-tFMiJnBNy"
      },
      "execution_count": null,
      "outputs": []
    },
    {
      "cell_type": "code",
      "source": [
        "conta_do_guilherme <= conta_da_daniela"
      ],
      "metadata": {
        "colab": {
          "base_uri": "https://localhost:8080/"
        },
        "id": "xyRKEhnbnC4l",
        "outputId": "eab80082-7e9c-4d27-efff-6273a280e74a"
      },
      "execution_count": null,
      "outputs": [
        {
          "output_type": "execute_result",
          "data": {
            "text/plain": [
              "True"
            ]
          },
          "metadata": {},
          "execution_count": 256
        }
      ]
    },
    {
      "cell_type": "code",
      "source": [
        ""
      ],
      "metadata": {
        "id": "dbIV05RVnpkb"
      },
      "execution_count": null,
      "outputs": []
    }
  ]
}
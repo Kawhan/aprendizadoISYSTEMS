{
  "nbformat": 4,
  "nbformat_minor": 0,
  "metadata": {
    "colab": {
      "name": "Colections_parte2.ipynb",
      "provenance": [],
      "collapsed_sections": []
    },
    "kernelspec": {
      "name": "python3",
      "display_name": "Python 3"
    },
    "language_info": {
      "name": "python"
    }
  },
  "cells": [
    {
      "cell_type": "code",
      "execution_count": null,
      "metadata": {
        "id": "ebKwkpmTsgiv"
      },
      "outputs": [],
      "source": [
        "# Quando eu falo de coleções de elementos quer dizer que estou representando \n",
        "usuarios_data_science = [15, 23, 43, 56]\n",
        "usuarios_machine_learning = [13, 23, 56, 42]"
      ]
    },
    {
      "cell_type": "code",
      "source": [
        "# Eu quero juntar as 2 listas para mandar um email para ambos os grupos\n",
        "# o copy funciona de maneira com uma copia rasa, ou seja se tiver objetos ele não fara copias mas sim criar referencias para as mesmas contas\n",
        "# assistiram = []\n",
        "# assistiram.extend(usuarios_data_science)\n",
        "assistiram = usuarios_data_science.copy()\n",
        "assistiram.extend(usuarios_machine_learning)\n",
        "assistiram"
      ],
      "metadata": {
        "colab": {
          "base_uri": "https://localhost:8080/"
        },
        "id": "GrSFvG-WtWsv",
        "outputId": "247c6efc-c8bb-45f6-e84c-2c51229dcded"
      },
      "execution_count": null,
      "outputs": [
        {
          "output_type": "execute_result",
          "data": {
            "text/plain": [
              "[15, 23, 43, 56, 13, 23, 56, 42]"
            ]
          },
          "metadata": {},
          "execution_count": 54
        }
      ]
    },
    {
      "cell_type": "code",
      "source": [
        "len(assistiram)"
      ],
      "metadata": {
        "colab": {
          "base_uri": "https://localhost:8080/"
        },
        "id": "PmhtOY3ttinx",
        "outputId": "9ce9bd7e-c0e9-4f56-9e01-28be29b7afd8"
      },
      "execution_count": null,
      "outputs": [
        {
          "output_type": "execute_result",
          "data": {
            "text/plain": [
              "8"
            ]
          },
          "metadata": {},
          "execution_count": 55
        }
      ]
    },
    {
      "cell_type": "code",
      "source": [
        "# Transformando a lista em um conjunto\n",
        "# Um conjunto em python é representado por vários elementos que não possuem conjuntos repetidos\n",
        "set(assistiram)"
      ],
      "metadata": {
        "colab": {
          "base_uri": "https://localhost:8080/"
        },
        "id": "nThTrvS0uWKa",
        "outputId": "215a4c2d-2b25-4711-d47d-b1ae81b343bd"
      },
      "execution_count": null,
      "outputs": [
        {
          "output_type": "execute_result",
          "data": {
            "text/plain": [
              "{13, 15, 23, 42, 43, 56}"
            ]
          },
          "metadata": {},
          "execution_count": 56
        }
      ]
    },
    {
      "cell_type": "code",
      "source": [
        "{4,1,2,3,1}"
      ],
      "metadata": {
        "colab": {
          "base_uri": "https://localhost:8080/"
        },
        "id": "yVobDJ4eupqF",
        "outputId": "e21a87ca-5ef9-451a-d0f4-bef406802211"
      },
      "execution_count": null,
      "outputs": [
        {
          "output_type": "execute_result",
          "data": {
            "text/plain": [
              "{1, 2, 3, 4}"
            ]
          },
          "metadata": {},
          "execution_count": 57
        }
      ]
    },
    {
      "cell_type": "code",
      "source": [
        "type({4,1,2,3,1})"
      ],
      "metadata": {
        "colab": {
          "base_uri": "https://localhost:8080/"
        },
        "id": "an7GiC9wvLjp",
        "outputId": "45b16f2e-e805-4c79-c562-d3fc4ddc3135"
      },
      "execution_count": null,
      "outputs": [
        {
          "output_type": "execute_result",
          "data": {
            "text/plain": [
              "set"
            ]
          },
          "metadata": {},
          "execution_count": 58
        }
      ]
    },
    {
      "cell_type": "code",
      "source": [
        "# Se no caso a ordem não importar eu posso simplesmente considerar usar set de cara\n",
        "usuarios_data_science = {15, 23, 43, 56}\n",
        "usuarios_machine_learning = {13, 23, 56, 42}"
      ],
      "metadata": {
        "id": "o0FCaGAKvNKR"
      },
      "execution_count": null,
      "outputs": []
    },
    {
      "cell_type": "code",
      "source": [
        "# Quando você tenta acessar aleatoriamente um conjunto, não possuimos acesso aleatorio\n",
        "# Não existe posição\n",
        "#usuarios_machine_learning[3]"
      ],
      "metadata": {
        "id": "SfYJYtb9CDeS"
      },
      "execution_count": null,
      "outputs": []
    },
    {
      "cell_type": "code",
      "source": [
        "# Podemos interar como qualquer interavel\n",
        "for usuario in set(assistiram):\n",
        "  print(usuario)"
      ],
      "metadata": {
        "colab": {
          "base_uri": "https://localhost:8080/"
        },
        "id": "FFF6UbIvCOL2",
        "outputId": "449d370c-c3b7-4280-cd06-137fbf963cd6"
      },
      "execution_count": null,
      "outputs": [
        {
          "output_type": "stream",
          "name": "stdout",
          "text": [
            "42\n",
            "43\n",
            "13\n",
            "15\n",
            "23\n",
            "56\n"
          ]
        }
      ]
    },
    {
      "cell_type": "code",
      "source": [
        "usuarios_data_science = {15, 23, 43, 56}\n",
        "usuarios_machine_learning = {13, 23, 56, 42}"
      ],
      "metadata": {
        "id": "bDb-Z5zzCddz"
      },
      "execution_count": null,
      "outputs": []
    },
    {
      "cell_type": "code",
      "source": [
        "# Pegar os elementos que estão em \"usuarios_machine_learning\" ou em \"usuarios_data_science\"\n",
        "usuarios_machine_learning | usuarios_data_science"
      ],
      "metadata": {
        "colab": {
          "base_uri": "https://localhost:8080/"
        },
        "id": "smGNVorXCsHR",
        "outputId": "e6080fef-6c90-4674-c6c2-548c7cee5519"
      },
      "execution_count": null,
      "outputs": [
        {
          "output_type": "execute_result",
          "data": {
            "text/plain": [
              "{13, 15, 23, 42, 43, 56}"
            ]
          },
          "metadata": {},
          "execution_count": 63
        }
      ]
    },
    {
      "cell_type": "markdown",
      "source": [
        "# Mais operações de conjuntos"
      ],
      "metadata": {
        "id": "8USO6l61DABk"
      }
    },
    {
      "cell_type": "code",
      "source": [
        "# Pegar os que participaram de ambos os cursos ou seja a intersecção dos conjuntos\n",
        "usuarios_machine_learning & usuarios_data_science"
      ],
      "metadata": {
        "colab": {
          "base_uri": "https://localhost:8080/"
        },
        "id": "ZZNxn2K1DCY1",
        "outputId": "94d4fae8-4472-41fa-85e6-561557bb493f"
      },
      "execution_count": null,
      "outputs": [
        {
          "output_type": "execute_result",
          "data": {
            "text/plain": [
              "{23, 56}"
            ]
          },
          "metadata": {},
          "execution_count": 64
        }
      ]
    },
    {
      "cell_type": "code",
      "source": [
        "# Aranca fora as pessoas que fizeram o curso de machine learning do conjunto de machine learning\n",
        "usuarios_data_science - usuarios_machine_learning"
      ],
      "metadata": {
        "colab": {
          "base_uri": "https://localhost:8080/"
        },
        "id": "rWU0RmY-DVQi",
        "outputId": "67114939-1482-482c-e8e2-448a864162ff"
      },
      "execution_count": null,
      "outputs": [
        {
          "output_type": "execute_result",
          "data": {
            "text/plain": [
              "{15, 43}"
            ]
          },
          "metadata": {},
          "execution_count": 65
        }
      ]
    },
    {
      "cell_type": "code",
      "source": [
        "fez_ds_mas_nao_fez_ml = usuarios_data_science - usuarios_machine_learning\n",
        "15 in fez_ds_mas_nao_fez_ml"
      ],
      "metadata": {
        "colab": {
          "base_uri": "https://localhost:8080/"
        },
        "id": "cSQfwbRRD2kR",
        "outputId": "da97c891-1438-495b-e3aa-d1db78bd93ac"
      },
      "execution_count": null,
      "outputs": [
        {
          "output_type": "execute_result",
          "data": {
            "text/plain": [
              "True"
            ]
          },
          "metadata": {},
          "execution_count": 66
        }
      ]
    },
    {
      "cell_type": "code",
      "source": [
        "23 in fez_ds_mas_nao_fez_ml"
      ],
      "metadata": {
        "colab": {
          "base_uri": "https://localhost:8080/"
        },
        "id": "EfM8u1UoEKbn",
        "outputId": "456756be-438c-4f2f-9685-e2a22895a1b4"
      },
      "execution_count": null,
      "outputs": [
        {
          "output_type": "execute_result",
          "data": {
            "text/plain": [
              "False"
            ]
          },
          "metadata": {},
          "execution_count": 67
        }
      ]
    },
    {
      "cell_type": "code",
      "source": [
        "# Ou exclusivo, aparece nos 2 conjuntos mas só em 1 dos 2 conjuntos\n",
        "usuarios_data_science ^ usuarios_machine_learning"
      ],
      "metadata": {
        "colab": {
          "base_uri": "https://localhost:8080/"
        },
        "id": "RH3iqFjBENIW",
        "outputId": "8dba0b30-51ff-46a9-dfb0-b8511a98a34d"
      },
      "execution_count": null,
      "outputs": [
        {
          "output_type": "execute_result",
          "data": {
            "text/plain": [
              "{13, 15, 42, 43}"
            ]
          },
          "metadata": {},
          "execution_count": 68
        }
      ]
    },
    {
      "cell_type": "markdown",
      "source": [
        "# Outro tipo de conjunto e conjuntos de outros tipos"
      ],
      "metadata": {
        "id": "G3y-3K4xEw4V"
      }
    },
    {
      "cell_type": "code",
      "source": [
        "# Quando estamos trabalhando com conjuntos podemos modifica-los em tempo real\n",
        "# Conjunto não tem delimitações de inicio e de fim é tudo junto amontuado\n",
        "usuarios = {1,5,76,34,52,13,17}\n",
        "len(usuarios)"
      ],
      "metadata": {
        "colab": {
          "base_uri": "https://localhost:8080/"
        },
        "id": "M3Tc6VnCEx6W",
        "outputId": "e8667017-1772-4f16-9cf2-2d650dcfd288"
      },
      "execution_count": null,
      "outputs": [
        {
          "output_type": "execute_result",
          "data": {
            "text/plain": [
              "7"
            ]
          },
          "metadata": {},
          "execution_count": 69
        }
      ]
    },
    {
      "cell_type": "code",
      "source": [
        "# Isso não vai funcionar porque o contexto do append é colocar no final\n",
        "# Mas os conjuntos por padrão não tem começo e fim ele tem os elementos lá dentro\n",
        "#usuarios.append(13)"
      ],
      "metadata": {
        "id": "FTyc_yXkFBnz"
      },
      "execution_count": null,
      "outputs": []
    },
    {
      "cell_type": "code",
      "source": [
        "# Add-> não importa onde mas adicione isso ao meu conjunto\n",
        "# Relembrando que se o elemento está lá dentro ele não vai adicionar\n",
        "usuarios.add(13)"
      ],
      "metadata": {
        "id": "oVtpMswhFaKh"
      },
      "execution_count": null,
      "outputs": []
    },
    {
      "cell_type": "code",
      "source": [
        "len(usuarios)"
      ],
      "metadata": {
        "colab": {
          "base_uri": "https://localhost:8080/"
        },
        "id": "rA8EFclEFoyH",
        "outputId": "360640a3-802b-4b05-a553-966f38555b95"
      },
      "execution_count": null,
      "outputs": [
        {
          "output_type": "execute_result",
          "data": {
            "text/plain": [
              "7"
            ]
          },
          "metadata": {},
          "execution_count": 72
        }
      ]
    },
    {
      "cell_type": "code",
      "source": [
        "usuarios.add(200)"
      ],
      "metadata": {
        "id": "UuCRD7ypFpf3"
      },
      "execution_count": null,
      "outputs": []
    },
    {
      "cell_type": "code",
      "source": [
        "len(usuarios)"
      ],
      "metadata": {
        "colab": {
          "base_uri": "https://localhost:8080/"
        },
        "id": "8fsWVqUEF3FE",
        "outputId": "e1e31ced-59dd-434d-c80b-8598f4e05aac"
      },
      "execution_count": null,
      "outputs": [
        {
          "output_type": "execute_result",
          "data": {
            "text/plain": [
              "8"
            ]
          },
          "metadata": {},
          "execution_count": 74
        }
      ]
    },
    {
      "cell_type": "code",
      "source": [
        "# Se você quer ter um conjunto e não quer que seja adicionado nada podemos usar o frozen para congelar\n",
        "# Ele devolve um conjunto novo\n",
        "usuarios = frozenset(usuarios)\n"
      ],
      "metadata": {
        "id": "CwpgeicBF4Pu"
      },
      "execution_count": null,
      "outputs": []
    },
    {
      "cell_type": "code",
      "source": [
        "#usuarios.add(300)"
      ],
      "metadata": {
        "id": "u8MaCBUAGHjz"
      },
      "execution_count": null,
      "outputs": []
    },
    {
      "cell_type": "code",
      "source": [
        "usuarios"
      ],
      "metadata": {
        "colab": {
          "base_uri": "https://localhost:8080/"
        },
        "id": "My8QATMPGPPC",
        "outputId": "1b319646-d4ba-4f35-ce7f-480c67fec530"
      },
      "execution_count": null,
      "outputs": [
        {
          "output_type": "execute_result",
          "data": {
            "text/plain": [
              "frozenset({1, 5, 13, 17, 34, 52, 76, 200})"
            ]
          },
          "metadata": {},
          "execution_count": 77
        }
      ]
    },
    {
      "cell_type": "code",
      "source": [
        "# O conjunto podem ser utilizados em outras situações não somente com inteiros\n",
        "meu_texto = \"Bem vindo meu nome é Guilherme eu gosto muito de nomes e tenho o meu cachorro e gosto muito de cachorro\"\n",
        "meu_texto.split()"
      ],
      "metadata": {
        "colab": {
          "base_uri": "https://localhost:8080/"
        },
        "id": "EP3jVxPVGSOA",
        "outputId": "0300075b-1f56-4c3e-950c-1d08eb245ef2"
      },
      "execution_count": null,
      "outputs": [
        {
          "output_type": "execute_result",
          "data": {
            "text/plain": [
              "['Bem',\n",
              " 'vindo',\n",
              " 'meu',\n",
              " 'nome',\n",
              " 'é',\n",
              " 'Guilherme',\n",
              " 'eu',\n",
              " 'gosto',\n",
              " 'muito',\n",
              " 'de',\n",
              " 'nomes',\n",
              " 'e',\n",
              " 'tenho',\n",
              " 'o',\n",
              " 'meu',\n",
              " 'cachorro',\n",
              " 'e',\n",
              " 'gosto',\n",
              " 'muito',\n",
              " 'de',\n",
              " 'cachorro']"
            ]
          },
          "metadata": {},
          "execution_count": 78
        }
      ]
    },
    {
      "cell_type": "code",
      "source": [
        "# Vou ter todas as palavras do meu texto sem duplicidade\n",
        "set(meu_texto.split())"
      ],
      "metadata": {
        "colab": {
          "base_uri": "https://localhost:8080/"
        },
        "id": "ftatg0XaG0pY",
        "outputId": "ba7141d6-8019-4fb3-aa20-9050f05edc46"
      },
      "execution_count": null,
      "outputs": [
        {
          "output_type": "execute_result",
          "data": {
            "text/plain": [
              "{'Bem',\n",
              " 'Guilherme',\n",
              " 'cachorro',\n",
              " 'de',\n",
              " 'e',\n",
              " 'eu',\n",
              " 'gosto',\n",
              " 'meu',\n",
              " 'muito',\n",
              " 'nome',\n",
              " 'nomes',\n",
              " 'o',\n",
              " 'tenho',\n",
              " 'vindo',\n",
              " 'é'}"
            ]
          },
          "metadata": {},
          "execution_count": 79
        }
      ]
    },
    {
      "cell_type": "markdown",
      "source": [
        "# Dicionários (Mapa,etc)"
      ],
      "metadata": {
        "id": "H7nsd-o5Kb8f"
      }
    },
    {
      "cell_type": "code",
      "source": [
        "# um mapa um caminho que indica um valor e uma chave\n",
        "aparicoes = {\n",
        "    \"Guilherme\": 1,\n",
        "    \"cachorro\": 2,\n",
        "    \"nome\": 2,\n",
        "    \"vindo\": 1\n",
        "}"
      ],
      "metadata": {
        "id": "6UWxzh5WKc13"
      },
      "execution_count": null,
      "outputs": []
    },
    {
      "cell_type": "code",
      "source": [
        "type(aparicoes)"
      ],
      "metadata": {
        "colab": {
          "base_uri": "https://localhost:8080/"
        },
        "id": "-gNxg2wJLMVd",
        "outputId": "32db71a7-9515-41ca-81dd-bf86f12ef9d0"
      },
      "execution_count": null,
      "outputs": [
        {
          "output_type": "execute_result",
          "data": {
            "text/plain": [
              "dict"
            ]
          },
          "metadata": {},
          "execution_count": 81
        }
      ]
    },
    {
      "cell_type": "code",
      "source": [
        "aparicoes['Guilherme']"
      ],
      "metadata": {
        "colab": {
          "base_uri": "https://localhost:8080/"
        },
        "id": "ZdknlaNwLVyw",
        "outputId": "edf089f1-f4e8-49b7-c9d0-4790640dd559"
      },
      "execution_count": null,
      "outputs": [
        {
          "output_type": "execute_result",
          "data": {
            "text/plain": [
              "1"
            ]
          },
          "metadata": {},
          "execution_count": 82
        }
      ]
    },
    {
      "cell_type": "code",
      "source": [
        "aparicoes['cachorro']"
      ],
      "metadata": {
        "colab": {
          "base_uri": "https://localhost:8080/"
        },
        "id": "7ImEPJ4XLdNI",
        "outputId": "69d83649-22e7-4e6e-fb43-a672f69db572"
      },
      "execution_count": null,
      "outputs": [
        {
          "output_type": "execute_result",
          "data": {
            "text/plain": [
              "2"
            ]
          },
          "metadata": {},
          "execution_count": 83
        }
      ]
    },
    {
      "cell_type": "code",
      "source": [
        "# Usando o metodo get para pegar a chave, caso a chave não estiver lá dentro devolva 0\n",
        "aparicoes.get('xpto', 0)"
      ],
      "metadata": {
        "colab": {
          "base_uri": "https://localhost:8080/"
        },
        "id": "8ux0fIXiLfJr",
        "outputId": "5a1a4691-62e0-4695-930e-0389fc6e19c9"
      },
      "execution_count": null,
      "outputs": [
        {
          "output_type": "execute_result",
          "data": {
            "text/plain": [
              "0"
            ]
          },
          "metadata": {},
          "execution_count": 84
        }
      ]
    },
    {
      "cell_type": "code",
      "source": [
        "aparicoes.get('cachorro', 0)"
      ],
      "metadata": {
        "colab": {
          "base_uri": "https://localhost:8080/"
        },
        "id": "vvhAe6iELvpr",
        "outputId": "2a9610b0-e045-4cd8-e11e-6148a2a471d6"
      },
      "execution_count": null,
      "outputs": [
        {
          "output_type": "execute_result",
          "data": {
            "text/plain": [
              "2"
            ]
          },
          "metadata": {},
          "execution_count": 85
        }
      ]
    },
    {
      "cell_type": "code",
      "source": [
        "# Outra maneira de criar um dict\n",
        "aparicoes = dict(Guilherme = 2, cachorro = 1)\n",
        "aparicoes"
      ],
      "metadata": {
        "colab": {
          "base_uri": "https://localhost:8080/"
        },
        "id": "_cN-WrtmL05n",
        "outputId": "f546e2e6-7370-4485-b28d-f95ded43f3c9"
      },
      "execution_count": null,
      "outputs": [
        {
          "output_type": "execute_result",
          "data": {
            "text/plain": [
              "{'Guilherme': 2, 'cachorro': 1}"
            ]
          },
          "metadata": {},
          "execution_count": 86
        }
      ]
    },
    {
      "cell_type": "code",
      "source": [
        "# Adicionando um novo valor\n",
        "aparicoes[\"Carlos\"] = 1"
      ],
      "metadata": {
        "id": "UGYAg6gFQCd_"
      },
      "execution_count": null,
      "outputs": []
    },
    {
      "cell_type": "code",
      "source": [
        "aparicoes"
      ],
      "metadata": {
        "colab": {
          "base_uri": "https://localhost:8080/"
        },
        "id": "j3zoR0iaQbwT",
        "outputId": "0f6e84e1-c5b8-4921-8d4c-47407b5411df"
      },
      "execution_count": null,
      "outputs": [
        {
          "output_type": "execute_result",
          "data": {
            "text/plain": [
              "{'Carlos': 1, 'Guilherme': 2, 'cachorro': 1}"
            ]
          },
          "metadata": {},
          "execution_count": 88
        }
      ]
    },
    {
      "cell_type": "code",
      "source": [
        "# Substituir um valor\n",
        "aparicoes[\"Carlos\"] = 2"
      ],
      "metadata": {
        "id": "oO9QJsR0QcU1"
      },
      "execution_count": null,
      "outputs": []
    },
    {
      "cell_type": "code",
      "source": [
        "aparicoes"
      ],
      "metadata": {
        "colab": {
          "base_uri": "https://localhost:8080/"
        },
        "id": "KqpgtxBhQlb0",
        "outputId": "fa29bb1d-ce47-4f93-acdd-5aa2e414945b"
      },
      "execution_count": null,
      "outputs": [
        {
          "output_type": "execute_result",
          "data": {
            "text/plain": [
              "{'Carlos': 2, 'Guilherme': 2, 'cachorro': 1}"
            ]
          },
          "metadata": {},
          "execution_count": 90
        }
      ]
    },
    {
      "cell_type": "code",
      "source": [
        "# Remover um elemento\n",
        "del aparicoes[\"Carlos\"]"
      ],
      "metadata": {
        "id": "l57VKtvAQmbz"
      },
      "execution_count": null,
      "outputs": []
    },
    {
      "cell_type": "code",
      "source": [
        "aparicoes"
      ],
      "metadata": {
        "colab": {
          "base_uri": "https://localhost:8080/"
        },
        "id": "vrlNf2dzQstx",
        "outputId": "da0c398c-5fba-4635-ef94-23078949024d"
      },
      "execution_count": null,
      "outputs": [
        {
          "output_type": "execute_result",
          "data": {
            "text/plain": [
              "{'Guilherme': 2, 'cachorro': 1}"
            ]
          },
          "metadata": {},
          "execution_count": 92
        }
      ]
    },
    {
      "cell_type": "code",
      "source": [
        "# verificar se um elemento está la dentro\n",
        "# ele vai procurar nas chaves\n",
        "\"cachorro\" in aparicoes"
      ],
      "metadata": {
        "colab": {
          "base_uri": "https://localhost:8080/"
        },
        "id": "ZIuFkWqVQud_",
        "outputId": "54edd58f-ff13-4ab3-b1d9-69c9385449d9"
      },
      "execution_count": null,
      "outputs": [
        {
          "output_type": "execute_result",
          "data": {
            "text/plain": [
              "True"
            ]
          },
          "metadata": {},
          "execution_count": 93
        }
      ]
    },
    {
      "cell_type": "code",
      "source": [
        "\"Carlos\" in aparicoes"
      ],
      "metadata": {
        "colab": {
          "base_uri": "https://localhost:8080/"
        },
        "id": "OaKoM8VOQ5xt",
        "outputId": "ba5c3b2d-38e1-46c5-9894-e171ba26b553"
      },
      "execution_count": null,
      "outputs": [
        {
          "output_type": "execute_result",
          "data": {
            "text/plain": [
              "False"
            ]
          },
          "metadata": {},
          "execution_count": 94
        }
      ]
    },
    {
      "cell_type": "code",
      "source": [
        "# Imprimir todos os elementos usando o for\n",
        "# Retorna as chaves não os valores\n",
        "for elemento in aparicoes:\n",
        "  print(elemento)"
      ],
      "metadata": {
        "colab": {
          "base_uri": "https://localhost:8080/"
        },
        "id": "KWeFmIkQQ_QD",
        "outputId": "2a255355-e49a-4387-e9a1-7592ddb8c6fb"
      },
      "execution_count": null,
      "outputs": [
        {
          "output_type": "stream",
          "name": "stdout",
          "text": [
            "Guilherme\n",
            "cachorro\n"
          ]
        }
      ]
    },
    {
      "cell_type": "code",
      "source": [
        "# Casos de trabalhar com as chaves\n",
        "for elemento in aparicoes.values():\n",
        "  print(elemento)"
      ],
      "metadata": {
        "colab": {
          "base_uri": "https://localhost:8080/"
        },
        "id": "5a8bZvlFRJVo",
        "outputId": "f588fdf0-45c9-428d-e7d7-7c1f39a9bb78"
      },
      "execution_count": null,
      "outputs": [
        {
          "output_type": "stream",
          "name": "stdout",
          "text": [
            "2\n",
            "1\n"
          ]
        }
      ]
    },
    {
      "cell_type": "code",
      "source": [
        "# Passar tanto pelo elemento quanto pelas chaves\n",
        "for elemento in aparicoes.keys():\n",
        "  valor = aparicoes[elemento]\n",
        "  print(elemento, valor)"
      ],
      "metadata": {
        "id": "71497PLiRjqg",
        "colab": {
          "base_uri": "https://localhost:8080/"
        },
        "outputId": "45d2ee90-17dc-4641-c511-a19669f3586a"
      },
      "execution_count": null,
      "outputs": [
        {
          "output_type": "stream",
          "name": "stdout",
          "text": [
            "Guilherme 2\n",
            "cachorro 1\n"
          ]
        }
      ]
    },
    {
      "cell_type": "code",
      "source": [
        "# Posso também passar pelos items\n",
        "# Ele faz a representação como tupla então podemos desempacotar como fizemos antes\n",
        "for elemento in aparicoes.items():\n",
        "  print(elemento)"
      ],
      "metadata": {
        "colab": {
          "base_uri": "https://localhost:8080/"
        },
        "id": "QtW54ADiZ9PS",
        "outputId": "c51ce337-dc28-4523-ef8a-bc6c6201001c"
      },
      "execution_count": null,
      "outputs": [
        {
          "output_type": "stream",
          "name": "stdout",
          "text": [
            "('Guilherme', 2)\n",
            "('cachorro', 1)\n"
          ]
        }
      ]
    },
    {
      "cell_type": "code",
      "source": [
        "# Como ele devolve uma tupla podemos desempacotar\n",
        "for valor, chave in aparicoes.items():\n",
        "  print(f\"{valor} = {chave}\")"
      ],
      "metadata": {
        "colab": {
          "base_uri": "https://localhost:8080/"
        },
        "id": "hfB8YSWaaX6Q",
        "outputId": "0a210e5b-d338-4e23-9c20-1ea323b172f2"
      },
      "execution_count": null,
      "outputs": [
        {
          "output_type": "stream",
          "name": "stdout",
          "text": [
            "Guilherme = 2\n",
            "cachorro = 1\n"
          ]
        }
      ]
    },
    {
      "cell_type": "code",
      "source": [
        "# Posso também trabalhar com conceito de list comprehension \n",
        "[f\"palavra {chave}\" for chave in aparicoes.keys()]"
      ],
      "metadata": {
        "colab": {
          "base_uri": "https://localhost:8080/"
        },
        "id": "1rr-FZwcbCBY",
        "outputId": "12fb29a9-a751-41c7-9e00-eca9de7320b1"
      },
      "execution_count": null,
      "outputs": [
        {
          "output_type": "execute_result",
          "data": {
            "text/plain": [
              "['palavra Guilherme', 'palavra cachorro']"
            ]
          },
          "metadata": {},
          "execution_count": 100
        }
      ]
    },
    {
      "cell_type": "code",
      "source": [
        ""
      ],
      "metadata": {
        "id": "JaHN3ZswcIru"
      },
      "execution_count": null,
      "outputs": []
    },
    {
      "cell_type": "markdown",
      "source": [
        "# Variações de dicionários"
      ],
      "metadata": {
        "id": "JHrXBpF0coHA"
      }
    },
    {
      "cell_type": "code",
      "source": [
        "meu_texto = \"Bem vindo meu nome é Guilherme eu gosto muito de nomes e tenho o meu cachorro e gosto muito de cachorro\"\n",
        "meu_texto = meu_texto.lower()\n",
        "meu_texto.split()\n",
        "\n",
        "aparicoes_palavras = {}\n",
        "\n",
        "for palavra in meu_texto.split():\n",
        "  ate_agora = aparicoes_palavras.get(palavra, 0)\n",
        "  aparicoes_palavras[palavra] = ate_agora + 1\n",
        "\n",
        "aparicoes_palavras"
      ],
      "metadata": {
        "colab": {
          "base_uri": "https://localhost:8080/"
        },
        "id": "OmSa94s6crCt",
        "outputId": "8fef19a2-df01-48c4-bd1a-0ced0209d29e"
      },
      "execution_count": null,
      "outputs": [
        {
          "output_type": "execute_result",
          "data": {
            "text/plain": [
              "{'bem': 1,\n",
              " 'cachorro': 2,\n",
              " 'de': 2,\n",
              " 'e': 2,\n",
              " 'eu': 1,\n",
              " 'gosto': 2,\n",
              " 'guilherme': 1,\n",
              " 'meu': 2,\n",
              " 'muito': 2,\n",
              " 'nome': 1,\n",
              " 'nomes': 1,\n",
              " 'o': 1,\n",
              " 'tenho': 1,\n",
              " 'vindo': 1,\n",
              " 'é': 1}"
            ]
          },
          "metadata": {},
          "execution_count": 105
        }
      ]
    },
    {
      "cell_type": "code",
      "source": [
        "from collections import defaultdict\n",
        "\n",
        "# Esse default dict cria um dicionario com valor padrão\n",
        "# Na pratica você pode pensar como sendo uma função que vai ser chamada toda vez que não tiver valor dentro\n",
        "# Default dict aparece bastante no dia dia quando temos um dicionario que queremos trabalhar com valores padrão\n",
        "aparicoes_palavras = defaultdict(int)\n",
        "\n",
        "for palavra in meu_texto.split():\n",
        "  ate_agora = aparicoes_palavras[palavra]\n",
        "  aparicoes_palavras[palavra] = ate_agora + 1\n",
        "\n",
        "aparicoes_palavras"
      ],
      "metadata": {
        "colab": {
          "base_uri": "https://localhost:8080/"
        },
        "id": "5F8GqheWcscs",
        "outputId": "df5db88a-bad1-4932-b90e-b45de6181dba"
      },
      "execution_count": null,
      "outputs": [
        {
          "output_type": "execute_result",
          "data": {
            "text/plain": [
              "defaultdict(int,\n",
              "            {'bem': 1,\n",
              "             'cachorro': 2,\n",
              "             'de': 2,\n",
              "             'e': 2,\n",
              "             'eu': 1,\n",
              "             'gosto': 2,\n",
              "             'guilherme': 1,\n",
              "             'meu': 2,\n",
              "             'muito': 2,\n",
              "             'nome': 1,\n",
              "             'nomes': 1,\n",
              "             'o': 1,\n",
              "             'tenho': 1,\n",
              "             'vindo': 1,\n",
              "             'é': 1})"
            ]
          },
          "metadata": {},
          "execution_count": 106
        }
      ]
    },
    {
      "cell_type": "code",
      "source": [
        "dicionario = defaultdict(int)\n",
        "dicionario[\"Mundo\"]"
      ],
      "metadata": {
        "colab": {
          "base_uri": "https://localhost:8080/"
        },
        "id": "qfPKil0pen0Z",
        "outputId": "1688ed9d-a41d-42d1-a422-696c8007e0d7"
      },
      "execution_count": null,
      "outputs": [
        {
          "output_type": "execute_result",
          "data": {
            "text/plain": [
              "0"
            ]
          },
          "metadata": {},
          "execution_count": 107
        }
      ]
    },
    {
      "cell_type": "code",
      "source": [
        "dicionario = defaultdict(str)\n",
        "dicionario[\"Mundo\"]"
      ],
      "metadata": {
        "colab": {
          "base_uri": "https://localhost:8080/",
          "height": 36
        },
        "id": "GgaQqMj2fG0S",
        "outputId": "8af217e5-7022-4535-cf37-b87ffb007e43"
      },
      "execution_count": null,
      "outputs": [
        {
          "output_type": "execute_result",
          "data": {
            "text/plain": [
              "''"
            ],
            "application/vnd.google.colaboratory.intrinsic+json": {
              "type": "string"
            }
          },
          "metadata": {},
          "execution_count": 108
        }
      ]
    },
    {
      "cell_type": "code",
      "source": [
        "aparicoes_palavras = defaultdict(int)\n",
        "\n",
        "for palavra in meu_texto.split():\n",
        "  aparicoes_palavras[palavra] += 1\n",
        "\n",
        "aparicoes_palavras"
      ],
      "metadata": {
        "colab": {
          "base_uri": "https://localhost:8080/"
        },
        "id": "CsnPexZzfIYU",
        "outputId": "86574a22-06d2-4f3b-e74b-4e99d310af79"
      },
      "execution_count": null,
      "outputs": [
        {
          "output_type": "execute_result",
          "data": {
            "text/plain": [
              "defaultdict(int,\n",
              "            {'bem': 1,\n",
              "             'cachorro': 2,\n",
              "             'de': 2,\n",
              "             'e': 2,\n",
              "             'eu': 1,\n",
              "             'gosto': 2,\n",
              "             'guilherme': 1,\n",
              "             'meu': 2,\n",
              "             'muito': 2,\n",
              "             'nome': 1,\n",
              "             'nomes': 1,\n",
              "             'o': 1,\n",
              "             'tenho': 1,\n",
              "             'vindo': 1,\n",
              "             'é': 1})"
            ]
          },
          "metadata": {},
          "execution_count": 110
        }
      ]
    },
    {
      "cell_type": "code",
      "source": [
        "class Conta:\n",
        "  def __init__(self):\n",
        "    print(\"Criando uma conta\")"
      ],
      "metadata": {
        "id": "DvWv29cXfcWf"
      },
      "execution_count": null,
      "outputs": []
    },
    {
      "cell_type": "code",
      "source": [
        "# Quando eu chamar algo que não esta lá dentro do nosso default dict chamar uma função que no caso vai ser nosso construtor\n",
        "\n",
        "contas =  defaultdict(Conta)\n",
        "contas[15]"
      ],
      "metadata": {
        "colab": {
          "base_uri": "https://localhost:8080/"
        },
        "id": "VqihwDs-fp4g",
        "outputId": "7422472e-bf77-4707-bb2b-6d1f8a932297"
      },
      "execution_count": null,
      "outputs": [
        {
          "output_type": "stream",
          "name": "stdout",
          "text": [
            "Criando uma conta\n"
          ]
        },
        {
          "output_type": "execute_result",
          "data": {
            "text/plain": [
              "<__main__.Conta at 0x7f6355199a90>"
            ]
          },
          "metadata": {},
          "execution_count": 114
        }
      ]
    },
    {
      "cell_type": "code",
      "source": [
        "from collections import Counter\n",
        "\n",
        "# O contador por padrão já tem o valor zero \n",
        "# é um dicionario que já tem o valor zero\n",
        "# Então não preciso criar o for só basta apenas passa um iteravel para que ele possa fazer a mesma coisa do for\n",
        "\n",
        "aparicoes_palavras = Counter(meu_texto.split())\n",
        "\n",
        "aparicoes_palavras"
      ],
      "metadata": {
        "colab": {
          "base_uri": "https://localhost:8080/"
        },
        "id": "-mCYSR9Tf3iF",
        "outputId": "33634926-6e4a-4770-d82e-a83d8a9c5622"
      },
      "execution_count": null,
      "outputs": [
        {
          "output_type": "execute_result",
          "data": {
            "text/plain": [
              "Counter({'bem': 1,\n",
              "         'cachorro': 2,\n",
              "         'de': 2,\n",
              "         'e': 2,\n",
              "         'eu': 1,\n",
              "         'gosto': 2,\n",
              "         'guilherme': 1,\n",
              "         'meu': 2,\n",
              "         'muito': 2,\n",
              "         'nome': 1,\n",
              "         'nomes': 1,\n",
              "         'o': 1,\n",
              "         'tenho': 1,\n",
              "         'vindo': 1,\n",
              "         'é': 1})"
            ]
          },
          "metadata": {},
          "execution_count": 119
        }
      ]
    },
    {
      "cell_type": "code",
      "source": [
        ""
      ],
      "metadata": {
        "id": "MJ6qZNglgQln"
      },
      "execution_count": null,
      "outputs": []
    },
    {
      "cell_type": "markdown",
      "source": [
        "#Testando o uso de diversas coleções"
      ],
      "metadata": {
        "id": "BUStwJFTg70Q"
      }
    },
    {
      "cell_type": "code",
      "source": [
        "texto_1 = \"\"\"\n",
        "Se você utiliza o Git como ferramenta de controle de versão para seus softwares, provavelmente já deve ter observado as várias maneiras de como controlar branches de repositórios. \n",
        "\n",
        "É corriqueiro pessoas utilizarem apenas uma branch para fazer commits em projetos pessoais, o que não é errado, pois quando estamos trabalhando sozinhos é muito tranquilo de se controlar tudo em um branch só.\n",
        "\n",
        "Entretanto, o cenário se torna totalmente diferente e mais complexo quando estamos trabalhando com mais contribuidores em um projeto.\n",
        "\n",
        "Em todo projeto real, é importantíssimo que se tenha controle total do que está sendo produzido por uma equipe de pessoas desenvolvedoras, onde, ao mesmo tempo, são feitas muitas coisas, como: implementação de novas funcionalidades, correção de falhas, lançamento de versões, etc. E é justamente aqui, que o Git Flow entra para nos ajudar, facilitando o desenvolvimento compartilhado de código com pessoas desenvolvedoras.\n",
        "\n",
        "Ao utilizar o Git para gerenciar versões de um projeto, é de suma importância definir o fluxo de trabalho (workflow), que irá estabelecer funções específicas para diferentes branches e definir quando elas devem interagir.\n",
        "\n",
        "Portanto, neste artigo, veremos o que é Git Flow, quando utilizá-lo, como utilizá-lo, os benefícios dessa abordagem e também as desvantagens. Vamos nessa?\n",
        "\n",
        "\"\"\"\n",
        "\n",
        "texto_2 = \"\"\"\n",
        "Você já foi em algum evento que precisou apresentar um documento de identificação para comprovar que você era realmente a pessoa que comprou o ingresso? O ato de solicitar o documento de identificação é uma forma de autenticação para que você receba a autorização para entrar. Na web, esse processo funciona de forma parecida. Para fazer requisições de alguns serviços ou acessar páginas específicas, você precisa se identificar de alguma forma, e essa identificação precisa ser segura e única.\n",
        "\n",
        "Neste artigo você vai compreender o que é o padrão JWT (sigla para “JSON Web Tokens”) para autenticação, muito usado na web. Também veremos:\n",
        "\n",
        "O que é um token;\n",
        "Para que serve e quando usar um JWT;\n",
        "Como criar e verificar seu JWT token.\n",
        "\n",
        "Atualmente, ouvimos muito a palavra token relacionada a NFTs (sigla para “Tokens não fundíveis” em português), metaverso, criptomoedas, etc. Porém, fora desse meio, um token é uma assinatura digital, uma chave.\n",
        "\n",
        "Quando você abre uma conta em um banco, você precisa definir uma senha e seus dados pessoais. Esses dados são convertidos em uma assinatura digital que vai identificar você de forma única para aquele banco e, toda vez que você acessar seu banco e entrar com sua senha e um dado pessoal, o banco entenderá e confirmará que você é aquele usuário logado, semelhante a entrarmos no evento quando apresentamos nosso documento de identidade.\n",
        "\n",
        "Existem vários algoritmos e padrões que transformam suas informações em um token, isto é, uma chave de autenticação única, que faz sentido para o serviço ou aplicação que esteja tentando acessar no momento. Um desses padrões é o JWT, que é seguro por permitir uma autenticação entre duas partes através de um token assinado.\n",
        "\"\"\""
      ],
      "metadata": {
        "id": "Neai5gJqg9DQ"
      },
      "execution_count": null,
      "outputs": []
    },
    {
      "cell_type": "code",
      "source": [
        "for palavra in texto_1.split():\n",
        "  print(palavra)"
      ],
      "metadata": {
        "colab": {
          "base_uri": "https://localhost:8080/"
        },
        "id": "uEWV_OK-hp4e",
        "outputId": "ad34d2cf-98d5-4d93-df1e-6177df77cf1a"
      },
      "execution_count": null,
      "outputs": [
        {
          "output_type": "stream",
          "name": "stdout",
          "text": [
            "Se\n",
            "você\n",
            "utiliza\n",
            "o\n",
            "Git\n",
            "como\n",
            "ferramenta\n",
            "de\n",
            "controle\n",
            "de\n",
            "versão\n",
            "para\n",
            "seus\n",
            "softwares,\n",
            "provavelmente\n",
            "já\n",
            "deve\n",
            "ter\n",
            "observado\n",
            "as\n",
            "várias\n",
            "maneiras\n",
            "de\n",
            "como\n",
            "controlar\n",
            "branches\n",
            "de\n",
            "repositórios.\n",
            "É\n",
            "corriqueiro\n",
            "pessoas\n",
            "utilizarem\n",
            "apenas\n",
            "uma\n",
            "branch\n",
            "para\n",
            "fazer\n",
            "commits\n",
            "em\n",
            "projetos\n",
            "pessoais,\n",
            "o\n",
            "que\n",
            "não\n",
            "é\n",
            "errado,\n",
            "pois\n",
            "quando\n",
            "estamos\n",
            "trabalhando\n",
            "sozinhos\n",
            "é\n",
            "muito\n",
            "tranquilo\n",
            "de\n",
            "se\n",
            "controlar\n",
            "tudo\n",
            "em\n",
            "um\n",
            "branch\n",
            "só.\n",
            "Entretanto,\n",
            "o\n",
            "cenário\n",
            "se\n",
            "torna\n",
            "totalmente\n",
            "diferente\n",
            "e\n",
            "mais\n",
            "complexo\n",
            "quando\n",
            "estamos\n",
            "trabalhando\n",
            "com\n",
            "mais\n",
            "contribuidores\n",
            "em\n",
            "um\n",
            "projeto.\n",
            "Em\n",
            "todo\n",
            "projeto\n",
            "real,\n",
            "é\n",
            "importantíssimo\n",
            "que\n",
            "se\n",
            "tenha\n",
            "controle\n",
            "total\n",
            "do\n",
            "que\n",
            "está\n",
            "sendo\n",
            "produzido\n",
            "por\n",
            "uma\n",
            "equipe\n",
            "de\n",
            "pessoas\n",
            "desenvolvedoras,\n",
            "onde,\n",
            "ao\n",
            "mesmo\n",
            "tempo,\n",
            "são\n",
            "feitas\n",
            "muitas\n",
            "coisas,\n",
            "como:\n",
            "implementação\n",
            "de\n",
            "novas\n",
            "funcionalidades,\n",
            "correção\n",
            "de\n",
            "falhas,\n",
            "lançamento\n",
            "de\n",
            "versões,\n",
            "etc.\n",
            "E\n",
            "é\n",
            "justamente\n",
            "aqui,\n",
            "que\n",
            "o\n",
            "Git\n",
            "Flow\n",
            "entra\n",
            "para\n",
            "nos\n",
            "ajudar,\n",
            "facilitando\n",
            "o\n",
            "desenvolvimento\n",
            "compartilhado\n",
            "de\n",
            "código\n",
            "com\n",
            "pessoas\n",
            "desenvolvedoras.\n",
            "Ao\n",
            "utilizar\n",
            "o\n",
            "Git\n",
            "para\n",
            "gerenciar\n",
            "versões\n",
            "de\n",
            "um\n",
            "projeto,\n",
            "é\n",
            "de\n",
            "suma\n",
            "importância\n",
            "definir\n",
            "o\n",
            "fluxo\n",
            "de\n",
            "trabalho\n",
            "(workflow),\n",
            "que\n",
            "irá\n",
            "estabelecer\n",
            "funções\n",
            "específicas\n",
            "para\n",
            "diferentes\n",
            "branches\n",
            "e\n",
            "definir\n",
            "quando\n",
            "elas\n",
            "devem\n",
            "interagir.\n",
            "Portanto,\n",
            "neste\n",
            "artigo,\n",
            "veremos\n",
            "o\n",
            "que\n",
            "é\n",
            "Git\n",
            "Flow,\n",
            "quando\n",
            "utilizá-lo,\n",
            "como\n",
            "utilizá-lo,\n",
            "os\n",
            "benefícios\n",
            "dessa\n",
            "abordagem\n",
            "e\n",
            "também\n",
            "as\n",
            "desvantagens.\n",
            "Vamos\n",
            "nessa?\n"
          ]
        }
      ]
    },
    {
      "cell_type": "code",
      "source": [
        "def analisa_frequencia_de_letras(texto):\n",
        "  aparicoes_caracter = Counter(texto.lower())\n",
        "  total_de_caracteres = sum(aparicoes_caracter.values())\n",
        "\n",
        "  # Calculando a porcetagem da aparição do caracter em vias gerais\n",
        "  proporcoes = [(letra, frequencia / total_de_caracteres) for letra, frequencia in aparicoes_caracter.items()]\n",
        "  # Meu contador pode receber um dicionario, e ele tem um metodo de saber quais os mais frequentes\n",
        "  proporcoes = Counter(dict(proporcoes))\n",
        "  mais_comuns = proporcoes.most_common(10)\n",
        "  for caractere, proporcao in mais_comuns:\n",
        "    print(f\"{caractere} => {round(proporcao * 100, 2)}%\")\n"
      ],
      "metadata": {
        "id": "dnTsSfdUiP22"
      },
      "execution_count": null,
      "outputs": []
    },
    {
      "cell_type": "code",
      "source": [
        "analisa_frequencia_de_letras(texto_1)"
      ],
      "metadata": {
        "colab": {
          "base_uri": "https://localhost:8080/"
        },
        "id": "c-RBaba_igCX",
        "outputId": "0d520dd8-2f88-47ee-ed81-9c3048c45bfd"
      },
      "execution_count": null,
      "outputs": [
        {
          "output_type": "stream",
          "name": "stdout",
          "text": [
            "  => 14.73%\n",
            "e => 10.14%\n",
            "o => 9.32%\n",
            "a => 7.81%\n",
            "s => 6.46%\n",
            "r => 5.71%\n",
            "t => 5.18%\n",
            "i => 4.66%\n",
            "n => 4.43%\n",
            "d => 3.68%\n"
          ]
        }
      ]
    },
    {
      "cell_type": "code",
      "source": [
        "# Na lingua portuguesa a frequência das letras segue uma certa distribuição"
      ],
      "metadata": {
        "id": "c_wALsM9lp5b"
      },
      "execution_count": null,
      "outputs": []
    },
    {
      "cell_type": "code",
      "source": [
        ""
      ],
      "metadata": {
        "id": "ehNXi8o2mwEB"
      },
      "execution_count": null,
      "outputs": []
    }
  ]
}